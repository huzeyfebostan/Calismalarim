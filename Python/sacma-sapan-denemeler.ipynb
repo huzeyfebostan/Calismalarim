{
 "cells": [
  {
   "cell_type": "code",
   "execution_count": 1,
   "id": "5830e057",
   "metadata": {},
   "outputs": [
    {
     "data": {
      "text/plain": [
       "\"Bugün Mecidiyeköy'den Mecidiyeköy'\\\\e 40 dakikada gittim.\""
      ]
     },
     "execution_count": 1,
     "metadata": {},
     "output_type": "execute_result"
    }
   ],
   "source": [
    "\"Bugün Mecidiyeköy\\'den Mecidiyeköy'\\e 40 dakikada gittim.\" "
   ]
  },
  {
   "cell_type": "code",
   "execution_count": 1,
   "id": "854cffe0",
   "metadata": {},
   "outputs": [
    {
     "data": {
      "text/plain": [
       "0.9999999999999999"
      ]
     },
     "execution_count": 1,
     "metadata": {},
     "output_type": "execute_result"
    }
   ],
   "source": [
    "x = (0.3 * 3) + 0.1\n",
    "x"
   ]
  },
  {
   "cell_type": "code",
   "execution_count": 2,
   "id": "879aa514",
   "metadata": {},
   "outputs": [
    {
     "data": {
      "text/plain": [
       "0.9999999999999999"
      ]
     },
     "execution_count": 2,
     "metadata": {},
     "output_type": "execute_result"
    }
   ],
   "source": [
    "x + 0.1\n",
    "x"
   ]
  },
  {
   "cell_type": "code",
   "execution_count": 3,
   "id": "597abdc6",
   "metadata": {},
   "outputs": [
    {
     "data": {
      "text/plain": [
       "0.9999999999999999"
      ]
     },
     "execution_count": 3,
     "metadata": {},
     "output_type": "execute_result"
    }
   ],
   "source": [
    "x + 0.1111111111111111111111111111111111111111111111111111111111111111\n",
    "x"
   ]
  },
  {
   "cell_type": "code",
   "execution_count": 4,
   "id": "38d3549e",
   "metadata": {},
   "outputs": [
    {
     "data": {
      "text/plain": [
       "True"
      ]
     },
     "execution_count": 4,
     "metadata": {},
     "output_type": "execute_result"
    }
   ],
   "source": [
    "x=int(float(\"3.9\"))\n",
    "y=3\n",
    "x==y"
   ]
  },
  {
   "cell_type": "code",
   "execution_count": 8,
   "id": "1fb646e4",
   "metadata": {},
   "outputs": [
    {
     "name": "stdout",
     "output_type": "stream",
     "text": [
      "Sayı hem 3'e hem 5'e hem de 15'\\e bölünüyor\n"
     ]
    }
   ],
   "source": [
    "x = 15\n",
    "if x % 3 == 0:\n",
    "    if x % 5 == 0:\n",
    "        if x % 15 == 0:\n",
    "            print(\"Sayı hem 3\\'e hem 5\\'e hem de 15\\'e bölünüyor\")\n",
    "    else:\n",
    "        print(\"Sayı sadece 3 ve 5\\'e bölünüyor\")\n",
    "else:\n",
    "    print(\"Sayı sadece 3\\'e bölünüyor'\")"
   ]
  },
  {
   "cell_type": "code",
   "execution_count": 13,
   "id": "cba5a353",
   "metadata": {},
   "outputs": [
    {
     "name": "stdout",
     "output_type": "stream",
     "text": [
      "Sayı hem 3'e hem 5'e hem de 20'ye bölünüyor\n"
     ]
    }
   ],
   "source": [
    "x = 300\n",
    "if x % 3 == 0:\n",
    "    if x % 5 == 0:\n",
    "        if x % 20 == 0:\n",
    "            print(\"Sayı hem 3\\'e hem 5\\'e hem de 20\\'ye bölünüyor\")\n",
    "        else:\n",
    "            print(\"Sayı sadece 3 ve 5\\'e bölünüyor\")\n",
    "    else:\n",
    "        print(\"Sayı sadece 3\\'e bölünüyor'\")\n",
    "else:\n",
    "    print(\"Sayı bölünmüyor\")"
   ]
  },
  {
   "cell_type": "code",
   "execution_count": 17,
   "id": "2b1c4488",
   "metadata": {},
   "outputs": [
    {
     "name": "stdout",
     "output_type": "stream",
     "text": [
      "istenilen sayı 2 olsun mu? y/nt\n",
      "0\n"
     ]
    }
   ],
   "source": [
    "x = input(\"istenilen sayı 2 olsun mu? y/n\")\n",
    "if x == 'y':\n",
    "    x = 2\n",
    "else:\n",
    "    x = 0\n",
    "print(x)"
   ]
  },
  {
   "cell_type": "code",
   "execution_count": 19,
   "id": "a28c85e1",
   "metadata": {},
   "outputs": [
    {
     "name": "stdout",
     "output_type": "stream",
     "text": [
      "istenilen sayı 2 olsun mu? y/nn\n",
      "0\n"
     ]
    }
   ],
   "source": [
    "x = input(\"istenilen sayı 2 olsun mu? y/n\")\n",
    "z = 2 if x == \"y\" else 0\n",
    "print(z)"
   ]
  },
  {
   "cell_type": "code",
   "execution_count": 35,
   "id": "28110140",
   "metadata": {},
   "outputs": [
    {
     "name": "stdout",
     "output_type": "stream",
     "text": [
      "Girilen isim hoze olsun mu? \n",
      " e/h \n",
      "h\n",
      "tamam olmasın\n"
     ]
    }
   ],
   "source": [
    "ad = input(\"Girilen isim hoze olsun mu? \\n e/h \\n\")\n",
    "condition = ad == 'e'\n",
    "print(\"tamam olsun\") if condition else print(\"tamam olmasın\")"
   ]
  },
  {
   "cell_type": "code",
   "execution_count": 36,
   "id": "592d65e9",
   "metadata": {},
   "outputs": [
    {
     "name": "stdout",
     "output_type": "stream",
     "text": [
      "i:  0\n",
      "i:  1\n",
      "i:  2\n"
     ]
    },
    {
     "ename": "KeyboardInterrupt",
     "evalue": "",
     "output_type": "error",
     "traceback": [
      "\u001b[0;31m---------------------------------------------------------------------------\u001b[0m",
      "\u001b[0;31mKeyboardInterrupt\u001b[0m                         Traceback (most recent call last)",
      "\u001b[0;32m/tmp/ipykernel_4790/1954671414.py\u001b[0m in \u001b[0;36m<module>\u001b[0;34m\u001b[0m\n\u001b[1;32m      1\u001b[0m \u001b[0mi\u001b[0m \u001b[0;34m=\u001b[0m \u001b[0;36m0\u001b[0m\u001b[0;34m\u001b[0m\u001b[0;34m\u001b[0m\u001b[0m\n\u001b[1;32m      2\u001b[0m \u001b[0;32mwhile\u001b[0m\u001b[0;34m(\u001b[0m\u001b[0mi\u001b[0m \u001b[0;34m<\u001b[0m \u001b[0;36m10\u001b[0m\u001b[0;34m)\u001b[0m\u001b[0;34m:\u001b[0m\u001b[0;34m\u001b[0m\u001b[0;34m\u001b[0m\u001b[0m\n\u001b[0;32m----> 3\u001b[0;31m     \u001b[0;32mif\u001b[0m\u001b[0;34m(\u001b[0m\u001b[0mi\u001b[0m \u001b[0;34m==\u001b[0m \u001b[0;36m3\u001b[0m \u001b[0;32mor\u001b[0m \u001b[0mi\u001b[0m \u001b[0;34m==\u001b[0m \u001b[0;36m5\u001b[0m\u001b[0;34m)\u001b[0m\u001b[0;34m:\u001b[0m\u001b[0;34m\u001b[0m\u001b[0;34m\u001b[0m\u001b[0m\n\u001b[0m\u001b[1;32m      4\u001b[0m         \u001b[0;32mcontinue\u001b[0m\u001b[0;34m\u001b[0m\u001b[0;34m\u001b[0m\u001b[0m\n\u001b[1;32m      5\u001b[0m     \u001b[0mprint\u001b[0m\u001b[0;34m(\u001b[0m\u001b[0;34m\"i: \"\u001b[0m\u001b[0;34m,\u001b[0m\u001b[0mi\u001b[0m\u001b[0;34m)\u001b[0m\u001b[0;34m\u001b[0m\u001b[0;34m\u001b[0m\u001b[0m\n",
      "\u001b[0;31mKeyboardInterrupt\u001b[0m: "
     ]
    }
   ],
   "source": [
    "i = 0\n",
    "while(i < 10):\n",
    "    if(i == 3 or i == 5):\n",
    "        continue\n",
    "    print(\"i: \",i)\n",
    "    i = i + 1"
   ]
  },
  {
   "cell_type": "code",
   "execution_count": 37,
   "id": "b8e2687f",
   "metadata": {},
   "outputs": [
    {
     "data": {
      "text/plain": [
       "[12, 43, 67, 43, 100, 80, 74]"
      ]
     },
     "execution_count": 37,
     "metadata": {},
     "output_type": "execute_result"
    }
   ],
   "source": [
    "notlar=[12,43,67,93,100,80,74]\n",
    "notlar"
   ]
  },
  {
   "cell_type": "code",
   "execution_count": 38,
   "id": "ae64ae91",
   "metadata": {},
   "outputs": [
    {
     "data": {
      "text/plain": [
       "[1, 2, 'a', 'b', True, 4.5, [1, 2, 3]]"
      ]
     },
     "execution_count": 38,
     "metadata": {},
     "output_type": "execute_result"
    }
   ],
   "source": [
    "l = [1, 2, \"a\", \"b\", True, 4.5, [1,2,3]]\n",
    "l"
   ]
  },
  {
   "cell_type": "code",
   "execution_count": 40,
   "id": "e9edcb0d",
   "metadata": {},
   "outputs": [
    {
     "data": {
      "text/plain": [
       "[12, 43, 67, 43, 100, 80, 74]"
      ]
     },
     "execution_count": 40,
     "metadata": {},
     "output_type": "execute_result"
    }
   ],
   "source": [
    "notlar[0] #12\n",
    "notlar[-1] #74\n",
    "notlar[-1] #74\n",
    "notlar[1:] #43,67,93,100,80,74\n",
    "notlar[1:3] #43,100\n",
    "notlar[:200] #\n",
    "notlar[:3000] #"
   ]
  },
  {
   "cell_type": "code",
   "execution_count": 41,
   "id": "8e147ca7",
   "metadata": {},
   "outputs": [
    {
     "data": {
      "text/plain": [
       "12"
      ]
     },
     "execution_count": 41,
     "metadata": {},
     "output_type": "execute_result"
    }
   ],
   "source": [
    "notlar[0] #12"
   ]
  },
  {
   "cell_type": "code",
   "execution_count": 42,
   "id": "5c9169da",
   "metadata": {},
   "outputs": [
    {
     "data": {
      "text/plain": [
       "74"
      ]
     },
     "execution_count": 42,
     "metadata": {},
     "output_type": "execute_result"
    }
   ],
   "source": [
    "notlar[-1] #74"
   ]
  },
  {
   "cell_type": "code",
   "execution_count": 43,
   "id": "8154a993",
   "metadata": {},
   "outputs": [
    {
     "data": {
      "text/plain": [
       "74"
      ]
     },
     "execution_count": 43,
     "metadata": {},
     "output_type": "execute_result"
    }
   ],
   "source": [
    "notlar[-1] #74"
   ]
  },
  {
   "cell_type": "code",
   "execution_count": 44,
   "id": "77b87b5f",
   "metadata": {},
   "outputs": [
    {
     "data": {
      "text/plain": [
       "[43, 67, 43, 100, 80, 74]"
      ]
     },
     "execution_count": 44,
     "metadata": {},
     "output_type": "execute_result"
    }
   ],
   "source": [
    "notlar[1:] #43,67,93,100,80,74"
   ]
  },
  {
   "cell_type": "code",
   "execution_count": 45,
   "id": "95058d9a",
   "metadata": {},
   "outputs": [
    {
     "data": {
      "text/plain": [
       "[43, 67]"
      ]
     },
     "execution_count": 45,
     "metadata": {},
     "output_type": "execute_result"
    }
   ],
   "source": [
    "notlar[1:3] #43,100"
   ]
  },
  {
   "cell_type": "code",
   "execution_count": 46,
   "id": "35e764bf",
   "metadata": {},
   "outputs": [
    {
     "data": {
      "text/plain": [
       "[12, 43, 67, 43, 100, 80, 74]"
      ]
     },
     "execution_count": 46,
     "metadata": {},
     "output_type": "execute_result"
    }
   ],
   "source": [
    "notlar[:200] #"
   ]
  },
  {
   "cell_type": "code",
   "execution_count": 47,
   "id": "df7c2052",
   "metadata": {},
   "outputs": [
    {
     "data": {
      "text/plain": [
       "[12, 43, 67, 43, 100, 80, 74]"
      ]
     },
     "execution_count": 47,
     "metadata": {},
     "output_type": "execute_result"
    }
   ],
   "source": [
    "notlar[:3000] #"
   ]
  },
  {
   "cell_type": "code",
   "execution_count": 48,
   "id": "b04a565c",
   "metadata": {},
   "outputs": [
    {
     "data": {
      "text/plain": [
       "[12, 67, 100, 74]"
      ]
     },
     "execution_count": 48,
     "metadata": {},
     "output_type": "execute_result"
    }
   ],
   "source": [
    "notlar[0:7:2]"
   ]
  },
  {
   "cell_type": "code",
   "execution_count": 49,
   "id": "44e249f3",
   "metadata": {},
   "outputs": [
    {
     "data": {
      "text/plain": [
       "[12, 43, 67, 43, 100, 80, 74]"
      ]
     },
     "execution_count": 49,
     "metadata": {},
     "output_type": "execute_result"
    }
   ],
   "source": [
    "notlar"
   ]
  },
  {
   "cell_type": "code",
   "execution_count": 50,
   "id": "26520f3e",
   "metadata": {},
   "outputs": [
    {
     "data": {
      "text/plain": [
       "[34, 43, 67, 43, 100, 80, 74]"
      ]
     },
     "execution_count": 50,
     "metadata": {},
     "output_type": "execute_result"
    }
   ],
   "source": [
    "notlar[0] += 22\n",
    "notlar"
   ]
  },
  {
   "cell_type": "code",
   "execution_count": 51,
   "id": "22afdac6",
   "metadata": {},
   "outputs": [],
   "source": [
    "notlar[0:3] = 30, 40"
   ]
  },
  {
   "cell_type": "code",
   "execution_count": 52,
   "id": "c9887be6",
   "metadata": {},
   "outputs": [
    {
     "data": {
      "text/plain": [
       "[30, 40, 43, 100, 80, 74]"
      ]
     },
     "execution_count": 52,
     "metadata": {},
     "output_type": "execute_result"
    }
   ],
   "source": [
    "notlar"
   ]
  },
  {
   "cell_type": "code",
   "execution_count": 53,
   "id": "e00cb443",
   "metadata": {},
   "outputs": [],
   "source": [
    "notlar[0:6] = 30, 40"
   ]
  },
  {
   "cell_type": "code",
   "execution_count": 54,
   "id": "73df5cd0",
   "metadata": {},
   "outputs": [
    {
     "data": {
      "text/plain": [
       "[30, 40]"
      ]
     },
     "execution_count": 54,
     "metadata": {},
     "output_type": "execute_result"
    }
   ],
   "source": [
    "notlar"
   ]
  },
  {
   "cell_type": "code",
   "execution_count": 56,
   "id": "926d14ee",
   "metadata": {},
   "outputs": [
    {
     "data": {
      "text/plain": [
       "[25, 75, 89, 43, 47, 100, 91]"
      ]
     },
     "execution_count": 56,
     "metadata": {},
     "output_type": "execute_result"
    }
   ],
   "source": [
    "notlar=[25, 75, 89, 43, 47, 100, 91]\n",
    "notlar"
   ]
  },
  {
   "cell_type": "code",
   "execution_count": 57,
   "id": "56600146",
   "metadata": {},
   "outputs": [
    {
     "data": {
      "text/plain": [
       "[30, 43, 47, 100, 91]"
      ]
     },
     "execution_count": 57,
     "metadata": {},
     "output_type": "execute_result"
    }
   ],
   "source": [
    "notlar[0:3] = [30]\n",
    "notlar"
   ]
  },
  {
   "cell_type": "code",
   "execution_count": 58,
   "id": "0b562028",
   "metadata": {},
   "outputs": [
    {
     "data": {
      "text/plain": [
       "[25, 75, 89, 43, 47, 100, 91]"
      ]
     },
     "execution_count": 58,
     "metadata": {},
     "output_type": "execute_result"
    }
   ],
   "source": [
    "notlar=[25, 75, 89, 43, 47, 100, 91]\n",
    "notlar"
   ]
  },
  {
   "cell_type": "code",
   "execution_count": 60,
   "id": "72a4e76a",
   "metadata": {},
   "outputs": [],
   "source": [
    "notlar[0:3] = 37, 68"
   ]
  },
  {
   "cell_type": "code",
   "execution_count": 61,
   "id": "961d9782",
   "metadata": {},
   "outputs": [
    {
     "data": {
      "text/plain": [
       "[37, 68, 43, 47, 100, 91]"
      ]
     },
     "execution_count": 61,
     "metadata": {},
     "output_type": "execute_result"
    }
   ],
   "source": [
    "notlar"
   ]
  },
  {
   "cell_type": "code",
   "execution_count": 62,
   "id": "da004668",
   "metadata": {},
   "outputs": [
    {
     "data": {
      "text/plain": [
       "6"
      ]
     },
     "execution_count": 62,
     "metadata": {},
     "output_type": "execute_result"
    }
   ],
   "source": [
    "len(notlar)"
   ]
  },
  {
   "cell_type": "code",
   "execution_count": 63,
   "id": "65da6bac",
   "metadata": {},
   "outputs": [],
   "source": [
    "notlar.append(23)"
   ]
  },
  {
   "cell_type": "code",
   "execution_count": 64,
   "id": "170859cc",
   "metadata": {},
   "outputs": [
    {
     "data": {
      "text/plain": [
       "[37, 68, 43, 47, 100, 91, 23]"
      ]
     },
     "execution_count": 64,
     "metadata": {},
     "output_type": "execute_result"
    }
   ],
   "source": [
    "notlar"
   ]
  },
  {
   "cell_type": "code",
   "execution_count": 65,
   "id": "bc307697",
   "metadata": {},
   "outputs": [
    {
     "data": {
      "text/plain": [
       "7"
      ]
     },
     "execution_count": 65,
     "metadata": {},
     "output_type": "execute_result"
    }
   ],
   "source": [
    "len(notlar)"
   ]
  },
  {
   "cell_type": "code",
   "execution_count": 66,
   "id": "666cc50b",
   "metadata": {},
   "outputs": [
    {
     "ename": "TypeError",
     "evalue": "list.append() takes exactly one argument (2 given)",
     "output_type": "error",
     "traceback": [
      "\u001b[0;31m---------------------------------------------------------------------------\u001b[0m",
      "\u001b[0;31mTypeError\u001b[0m                                 Traceback (most recent call last)",
      "\u001b[0;32m/tmp/ipykernel_4790/1878549616.py\u001b[0m in \u001b[0;36m<module>\u001b[0;34m\u001b[0m\n\u001b[0;32m----> 1\u001b[0;31m \u001b[0mnotlar\u001b[0m\u001b[0;34m.\u001b[0m\u001b[0mappend\u001b[0m\u001b[0;34m(\u001b[0m\u001b[0;36m41\u001b[0m\u001b[0;34m,\u001b[0m\u001b[0;36m50\u001b[0m\u001b[0;34m)\u001b[0m\u001b[0;34m\u001b[0m\u001b[0;34m\u001b[0m\u001b[0m\n\u001b[0m",
      "\u001b[0;31mTypeError\u001b[0m: list.append() takes exactly one argument (2 given)"
     ]
    }
   ],
   "source": [
    "notlar.append(41,50)"
   ]
  },
  {
   "cell_type": "code",
   "execution_count": 68,
   "id": "f8812104",
   "metadata": {},
   "outputs": [],
   "source": [
    "notlar.extend([41,50])"
   ]
  },
  {
   "cell_type": "code",
   "execution_count": 69,
   "id": "713f0114",
   "metadata": {},
   "outputs": [
    {
     "data": {
      "text/plain": [
       "[37, 68, 43, 47, 100, 91, 23, 41, 50]"
      ]
     },
     "execution_count": 69,
     "metadata": {},
     "output_type": "execute_result"
    }
   ],
   "source": [
    "notlar"
   ]
  },
  {
   "cell_type": "code",
   "execution_count": 70,
   "id": "9bf492d6",
   "metadata": {},
   "outputs": [],
   "source": [
    "notlar.insert(5,85)"
   ]
  },
  {
   "cell_type": "code",
   "execution_count": 71,
   "id": "4d752a55",
   "metadata": {},
   "outputs": [
    {
     "data": {
      "text/plain": [
       "[37, 68, 43, 47, 100, 85, 91, 23, 41, 50]"
      ]
     },
     "execution_count": 71,
     "metadata": {},
     "output_type": "execute_result"
    }
   ],
   "source": [
    "notlar"
   ]
  },
  {
   "cell_type": "code",
   "execution_count": 72,
   "id": "f4991831",
   "metadata": {},
   "outputs": [
    {
     "data": {
      "text/plain": [
       "[37, 68, 43, 47, 100, 85, 91, 41, 50]"
      ]
     },
     "execution_count": 72,
     "metadata": {},
     "output_type": "execute_result"
    }
   ],
   "source": [
    "notlar.remove(23)\n",
    "notlar"
   ]
  },
  {
   "cell_type": "code",
   "execution_count": 74,
   "id": "2f2fec76",
   "metadata": {},
   "outputs": [
    {
     "data": {
      "text/plain": [
       "37"
      ]
     },
     "execution_count": 74,
     "metadata": {},
     "output_type": "execute_result"
    }
   ],
   "source": [
    "notlar.pop(0)"
   ]
  },
  {
   "cell_type": "code",
   "execution_count": 75,
   "id": "5cfbf717",
   "metadata": {},
   "outputs": [
    {
     "data": {
      "text/plain": [
       "[68, 43, 47, 100, 85, 91, 41, 50]"
      ]
     },
     "execution_count": 75,
     "metadata": {},
     "output_type": "execute_result"
    }
   ],
   "source": [
    "notlar"
   ]
  },
  {
   "cell_type": "code",
   "execution_count": 76,
   "id": "f67ecb2c",
   "metadata": {},
   "outputs": [
    {
     "data": {
      "text/plain": [
       "1"
      ]
     },
     "execution_count": 76,
     "metadata": {},
     "output_type": "execute_result"
    }
   ],
   "source": [
    "notlar.count(100)"
   ]
  },
  {
   "cell_type": "code",
   "execution_count": 77,
   "id": "71416d09",
   "metadata": {},
   "outputs": [
    {
     "data": {
      "text/plain": [
       "[1, 2, 3]"
      ]
     },
     "execution_count": 77,
     "metadata": {},
     "output_type": "execute_result"
    }
   ],
   "source": [
    "l = [1,2,3]\n",
    "l2 = l\n",
    "l"
   ]
  },
  {
   "cell_type": "code",
   "execution_count": 78,
   "id": "e8aff92d",
   "metadata": {},
   "outputs": [
    {
     "data": {
      "text/plain": [
       "[1, 2, 3]"
      ]
     },
     "execution_count": 78,
     "metadata": {},
     "output_type": "execute_result"
    }
   ],
   "source": [
    "l2"
   ]
  },
  {
   "cell_type": "code",
   "execution_count": 79,
   "id": "c5513585",
   "metadata": {},
   "outputs": [],
   "source": [
    "l[0] = 200"
   ]
  },
  {
   "cell_type": "code",
   "execution_count": 80,
   "id": "bf958e11",
   "metadata": {},
   "outputs": [
    {
     "data": {
      "text/plain": [
       "[200, 2, 3]"
      ]
     },
     "execution_count": 80,
     "metadata": {},
     "output_type": "execute_result"
    }
   ],
   "source": [
    "l"
   ]
  },
  {
   "cell_type": "code",
   "execution_count": 81,
   "id": "86a75afe",
   "metadata": {},
   "outputs": [
    {
     "data": {
      "text/plain": [
       "[200, 2, 3]"
      ]
     },
     "execution_count": 81,
     "metadata": {},
     "output_type": "execute_result"
    }
   ],
   "source": [
    "l2"
   ]
  },
  {
   "cell_type": "code",
   "execution_count": 82,
   "id": "be332a7d",
   "metadata": {},
   "outputs": [],
   "source": [
    "l2 = l.copy()"
   ]
  },
  {
   "cell_type": "code",
   "execution_count": 83,
   "id": "0946d92a",
   "metadata": {},
   "outputs": [
    {
     "data": {
      "text/plain": [
       "[200, 4, 3]"
      ]
     },
     "execution_count": 83,
     "metadata": {},
     "output_type": "execute_result"
    }
   ],
   "source": [
    "l[1] = 4\n",
    "l"
   ]
  },
  {
   "cell_type": "code",
   "execution_count": 84,
   "id": "5410014e",
   "metadata": {},
   "outputs": [
    {
     "data": {
      "text/plain": [
       "[200, 2, 3]"
      ]
     },
     "execution_count": 84,
     "metadata": {},
     "output_type": "execute_result"
    }
   ],
   "source": [
    "l2"
   ]
  },
  {
   "cell_type": "code",
   "execution_count": 85,
   "id": "e272536d",
   "metadata": {},
   "outputs": [],
   "source": [
    "l2 = [4,5,6]\n",
    "l1 = [1,2,3]\n",
    "l3 = [7,8,9]"
   ]
  },
  {
   "cell_type": "code",
   "execution_count": 86,
   "id": "e277278d",
   "metadata": {},
   "outputs": [
    {
     "data": {
      "text/plain": [
       "[1, 2, 3, 4, 5, 6]"
      ]
     },
     "execution_count": 86,
     "metadata": {},
     "output_type": "execute_result"
    }
   ],
   "source": [
    "l1 + l2"
   ]
  },
  {
   "cell_type": "code",
   "execution_count": 87,
   "id": "be0fcc79",
   "metadata": {},
   "outputs": [
    {
     "data": {
      "text/plain": [
       "[1, 2, 3]"
      ]
     },
     "execution_count": 87,
     "metadata": {},
     "output_type": "execute_result"
    }
   ],
   "source": [
    "l1"
   ]
  },
  {
   "cell_type": "code",
   "execution_count": 88,
   "id": "577a843c",
   "metadata": {},
   "outputs": [
    {
     "data": {
      "text/plain": [
       "[4, 5, 6]"
      ]
     },
     "execution_count": 88,
     "metadata": {},
     "output_type": "execute_result"
    }
   ],
   "source": [
    "l2"
   ]
  },
  {
   "cell_type": "code",
   "execution_count": 89,
   "id": "1e4f0d7a",
   "metadata": {},
   "outputs": [],
   "source": [
    "l4 = l1 + l2 + l3"
   ]
  },
  {
   "cell_type": "code",
   "execution_count": 90,
   "id": "dd804f08",
   "metadata": {},
   "outputs": [
    {
     "data": {
      "text/plain": [
       "[1, 2, 3, 4, 5, 6, 7, 8, 9]"
      ]
     },
     "execution_count": 90,
     "metadata": {},
     "output_type": "execute_result"
    }
   ],
   "source": [
    "l4"
   ]
  },
  {
   "cell_type": "code",
   "execution_count": 91,
   "id": "6da5deef",
   "metadata": {},
   "outputs": [
    {
     "data": {
      "text/plain": [
       "0"
      ]
     },
     "execution_count": 91,
     "metadata": {},
     "output_type": "execute_result"
    }
   ],
   "source": [
    "l4.index(1)"
   ]
  },
  {
   "cell_type": "code",
   "execution_count": 92,
   "id": "c8d248db",
   "metadata": {},
   "outputs": [
    {
     "data": {
      "text/plain": [
       "[9, 8, 7, 6, 5, 4, 3, 2, 1]"
      ]
     },
     "execution_count": 92,
     "metadata": {},
     "output_type": "execute_result"
    }
   ],
   "source": [
    "l4.reverse()\n",
    "l4"
   ]
  },
  {
   "cell_type": "code",
   "execution_count": 93,
   "id": "60234b43",
   "metadata": {},
   "outputs": [
    {
     "data": {
      "text/plain": [
       "[1, 2, 3, 4, 5, 6, 7, 8, 9]"
      ]
     },
     "execution_count": 93,
     "metadata": {},
     "output_type": "execute_result"
    }
   ],
   "source": [
    "l4.reverse()\n",
    "l4"
   ]
  },
  {
   "cell_type": "code",
   "execution_count": 94,
   "id": "b053c898",
   "metadata": {},
   "outputs": [
    {
     "data": {
      "text/plain": [
       "[1, 2, 3, 4, 5, 6, 7, 8, 9]"
      ]
     },
     "execution_count": 94,
     "metadata": {},
     "output_type": "execute_result"
    }
   ],
   "source": [
    "l4[::-1]\n",
    "l4"
   ]
  },
  {
   "cell_type": "code",
   "execution_count": 95,
   "id": "9dc61aed",
   "metadata": {},
   "outputs": [],
   "source": [
    "l4 = l4[::-1]"
   ]
  },
  {
   "cell_type": "code",
   "execution_count": 96,
   "id": "dd446504",
   "metadata": {},
   "outputs": [
    {
     "data": {
      "text/plain": [
       "[9, 8, 7, 6, 5, 4, 3, 2, 1]"
      ]
     },
     "execution_count": 96,
     "metadata": {},
     "output_type": "execute_result"
    }
   ],
   "source": [
    "l4"
   ]
  },
  {
   "cell_type": "code",
   "execution_count": 97,
   "id": "c818c030",
   "metadata": {},
   "outputs": [
    {
     "data": {
      "text/plain": [
       "[1, 2, 3, 4, 5, 6, 7, 8, 9]"
      ]
     },
     "execution_count": 97,
     "metadata": {},
     "output_type": "execute_result"
    }
   ],
   "source": [
    "l4 = l4[::-1]\n",
    "l4"
   ]
  },
  {
   "cell_type": "code",
   "execution_count": 98,
   "id": "21594273",
   "metadata": {},
   "outputs": [
    {
     "data": {
      "text/plain": [
       "[41, 43, 47, 50, 68, 85, 91, 100]"
      ]
     },
     "execution_count": 98,
     "metadata": {},
     "output_type": "execute_result"
    }
   ],
   "source": [
    "sorted(notlar)"
   ]
  },
  {
   "cell_type": "code",
   "execution_count": 99,
   "id": "de5c5baa",
   "metadata": {},
   "outputs": [
    {
     "ename": "NameError",
     "evalue": "name 'sort' is not defined",
     "output_type": "error",
     "traceback": [
      "\u001b[0;31m---------------------------------------------------------------------------\u001b[0m",
      "\u001b[0;31mNameError\u001b[0m                                 Traceback (most recent call last)",
      "\u001b[0;32m/tmp/ipykernel_4790/1842994269.py\u001b[0m in \u001b[0;36m<module>\u001b[0;34m\u001b[0m\n\u001b[0;32m----> 1\u001b[0;31m \u001b[0msort\u001b[0m\u001b[0;34m(\u001b[0m\u001b[0mnotlar\u001b[0m\u001b[0;34m)\u001b[0m\u001b[0;34m\u001b[0m\u001b[0;34m\u001b[0m\u001b[0m\n\u001b[0m",
      "\u001b[0;31mNameError\u001b[0m: name 'sort' is not defined"
     ]
    }
   ],
   "source": [
    "sort(notlar)"
   ]
  },
  {
   "cell_type": "code",
   "execution_count": 100,
   "id": "57ff9491",
   "metadata": {},
   "outputs": [
    {
     "data": {
      "text/plain": [
       "[68, 43, 47, 100, 85, 91, 41, 50]"
      ]
     },
     "execution_count": 100,
     "metadata": {},
     "output_type": "execute_result"
    }
   ],
   "source": [
    "notlar"
   ]
  },
  {
   "cell_type": "code",
   "execution_count": 101,
   "id": "9972db65",
   "metadata": {},
   "outputs": [],
   "source": [
    "notlar.sort()"
   ]
  },
  {
   "cell_type": "code",
   "execution_count": 102,
   "id": "1252c779",
   "metadata": {},
   "outputs": [
    {
     "data": {
      "text/plain": [
       "[41, 43, 47, 50, 68, 85, 91, 100]"
      ]
     },
     "execution_count": 102,
     "metadata": {},
     "output_type": "execute_result"
    }
   ],
   "source": [
    "notlar"
   ]
  },
  {
   "cell_type": "code",
   "execution_count": null,
   "id": "816b6a7b",
   "metadata": {},
   "outputs": [],
   "source": []
  }
 ],
 "metadata": {
  "kernelspec": {
   "display_name": "Python 3 (ipykernel)",
   "language": "python",
   "name": "python3"
  },
  "language_info": {
   "codemirror_mode": {
    "name": "ipython",
    "version": 3
   },
   "file_extension": ".py",
   "mimetype": "text/x-python",
   "name": "python",
   "nbconvert_exporter": "python",
   "pygments_lexer": "ipython3",
   "version": "3.10.4"
  }
 },
 "nbformat": 4,
 "nbformat_minor": 5
}
