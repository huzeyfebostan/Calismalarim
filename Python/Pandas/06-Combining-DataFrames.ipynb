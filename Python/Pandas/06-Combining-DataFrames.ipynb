{
 "cells": [
  {
   "cell_type": "code",
   "execution_count": 1,
   "id": "8fbb4a59",
   "metadata": {},
   "outputs": [],
   "source": [
    "import numpy as np\n",
    "import pandas as pd"
   ]
  },
  {
   "cell_type": "markdown",
   "id": "5d2ab4a1",
   "metadata": {},
   "source": [
    "## Birbirine bağlama\n",
    "Her iki kaynak aynı formatta ise **pd.concat()** yöntemini kullanmaktır\n",
    "\n",
    "*concatenation** yöntemi basitce sütunlarla veya satırlarla iki DataFrame'i yapıştırır"
   ]
  },
  {
   "cell_type": "markdown",
   "id": "13e76a0a",
   "metadata": {},
   "source": [
    "**Aynı formatta olan iki DataFrame'i birbirine yapıştırma**"
   ]
  }
 ],
 "metadata": {
  "kernelspec": {
   "display_name": "Python 3 (ipykernel)",
   "language": "python",
   "name": "python3"
  },
  "language_info": {
   "codemirror_mode": {
    "name": "ipython",
    "version": 3
   },
   "file_extension": ".py",
   "mimetype": "text/x-python",
   "name": "python",
   "nbconvert_exporter": "python",
   "pygments_lexer": "ipython3",
   "version": "3.9.13"
  }
 },
 "nbformat": 4,
 "nbformat_minor": 5
}
