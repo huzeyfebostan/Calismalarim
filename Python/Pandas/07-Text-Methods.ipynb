{
 "cells": [
  {
   "cell_type": "markdown",
   "id": "52bcc328",
   "metadata": {},
   "source": [
    "# Text Metodları\n",
    "Genellikle metin verilerinin işlenmesinde temizlenmesi veya manipüle edilmesi gerekir. Örneğin, bir grup e-posta adresinden oluşan bir sütununuz olabilir, böylece gmail.com'de birinin adı gibi birşeye sahip olursunuz. Ve ortak bir görev olabilecek şey, alan adlarını (domain names) e-posta adresindeki gerçek addan ayırmaya çalışmaktır."
   ]
  },
  {
   "cell_type": "markdown",
   "id": "b26f9b1b",
   "metadata": {},
   "source": [
    "## String metodları\n",
    "Normal bir Python stringi, kullanılabilen çeşitli yöntem çağrılarına sahiptir:"
   ]
  },
  {
   "cell_type": "code",
   "execution_count": 1,
   "id": "2020a45f",
   "metadata": {},
   "outputs": [],
   "source": [
    "email = 'huzeyfebostan99@gmail.com'"
   ]
  },
  {
   "cell_type": "code",
   "execution_count": 2,
   "id": "b2636e9a",
   "metadata": {},
   "outputs": [
    {
     "data": {
      "text/plain": [
       "['huzeyfebostan99', 'gmail.com']"
      ]
     },
     "execution_count": 2,
     "metadata": {},
     "output_type": "execute_result"
    }
   ],
   "source": [
    "# tab ile string ile kullanılabilen birçok yönteme ulaşabilirsiniz.\n",
    "email.split('@')"
   ]
  },
  {
   "cell_type": "code",
   "execution_count": 3,
   "id": "e97ed0a0",
   "metadata": {},
   "outputs": [
    {
     "data": {
      "text/plain": [
       "15"
      ]
     },
     "execution_count": 3,
     "metadata": {},
     "output_type": "execute_result"
    }
   ],
   "source": [
    "email.find('@')"
   ]
  },
  {
   "cell_type": "code",
   "execution_count": 5,
   "id": "f6b838ce",
   "metadata": {},
   "outputs": [
    {
     "data": {
      "text/plain": [
       "'@'"
      ]
     },
     "execution_count": 5,
     "metadata": {},
     "output_type": "execute_result"
    }
   ],
   "source": [
    "email[15]"
   ]
  },
  {
   "cell_type": "code",
   "execution_count": 7,
   "id": "30a9313c",
   "metadata": {},
   "outputs": [
    {
     "data": {
      "text/plain": [
       "False"
      ]
     },
     "execution_count": 7,
     "metadata": {},
     "output_type": "execute_result"
    }
   ],
   "source": [
    "email.isdigit()"
   ]
  },
  {
   "cell_type": "code",
   "execution_count": 8,
   "id": "55999746",
   "metadata": {},
   "outputs": [
    {
     "data": {
      "text/plain": [
       "True"
      ]
     },
     "execution_count": 8,
     "metadata": {},
     "output_type": "execute_result"
    }
   ],
   "source": [
    "'5'.isdigit()"
   ]
  },
  {
   "cell_type": "code",
   "execution_count": 11,
   "id": "0157ee5b",
   "metadata": {},
   "outputs": [],
   "source": [
    "#help(str)"
   ]
  },
  {
   "cell_type": "markdown",
   "id": "09db5513",
   "metadata": {},
   "source": [
    "# Pandas ve Text\n",
    "\n",
    "Pandas burada gösterdiğimizden çok daha fazlasını yapabilir.\n",
    "\n",
    "## Pandas string sütununda text metodları\n",
    "Pandas series'teki bir sütunda string yöntemlerini kullanmak için series isminden sonra .str eki ekleyip bu yöntemleri tab tuşuna basıp görülebilir. Python string yöntem çağrılarının tümünü bu şekilde pandas 'ta da çağırılabilir."
   ]
  },
  {
   "cell_type": "code",
   "execution_count": 12,
   "id": "2f3d74f1",
   "metadata": {},
   "outputs": [],
   "source": [
    "import pandas as pd"
   ]
  },
  {
   "cell_type": "code",
   "execution_count": 14,
   "id": "733d53df",
   "metadata": {},
   "outputs": [],
   "source": [
    "names = pd.Series(['andrew','bobo','claire','david','4'])"
   ]
  },
  {
   "cell_type": "code",
   "execution_count": 15,
   "id": "6a764c4e",
   "metadata": {},
   "outputs": [
    {
     "data": {
      "text/plain": [
       "0    andrew\n",
       "1      bobo\n",
       "2    claire\n",
       "3     david\n",
       "4         4\n",
       "dtype: object"
      ]
     },
     "execution_count": 15,
     "metadata": {},
     "output_type": "execute_result"
    }
   ],
   "source": [
    "names"
   ]
  },
  {
   "cell_type": "code",
   "execution_count": 16,
   "id": "f61eb681",
   "metadata": {},
   "outputs": [
    {
     "data": {
      "text/plain": [
       "0    Andrew\n",
       "1      Bobo\n",
       "2    Claire\n",
       "3     David\n",
       "4         4\n",
       "dtype: object"
      ]
     },
     "execution_count": 16,
     "metadata": {},
     "output_type": "execute_result"
    }
   ],
   "source": [
    "# names series'ın sütunundaki tüm stringler için bu yöntemi uygular.\n",
    "names.str.capitalize()"
   ]
  },
  {
   "cell_type": "code",
   "execution_count": 17,
   "id": "584125e1",
   "metadata": {},
   "outputs": [
    {
     "data": {
      "text/plain": [
       "0    False\n",
       "1    False\n",
       "2    False\n",
       "3    False\n",
       "4     True\n",
       "dtype: bool"
      ]
     },
     "execution_count": 17,
     "metadata": {},
     "output_type": "execute_result"
    }
   ],
   "source": [
    "names.str.isdigit()"
   ]
  },
  {
   "cell_type": "markdown",
   "id": "6635fbe1",
   "metadata": {},
   "source": [
    "## Bölme, Alma ve Genişletme"
   ]
  },
  {
   "cell_type": "code",
   "execution_count": 19,
   "id": "aa9a1735",
   "metadata": {},
   "outputs": [],
   "source": [
    "tech_finance = ['GOOG,APPL,AMZN','JPM,BAC,GS'] # bir liste alalım."
   ]
  },
  {
   "cell_type": "code",
   "execution_count": 20,
   "id": "d36a5651",
   "metadata": {},
   "outputs": [
    {
     "data": {
      "text/plain": [
       "2"
      ]
     },
     "execution_count": 20,
     "metadata": {},
     "output_type": "execute_result"
    }
   ],
   "source": [
    "len(tech_finance)"
   ]
  },
  {
   "cell_type": "code",
   "execution_count": 21,
   "id": "17424c4f",
   "metadata": {},
   "outputs": [],
   "source": [
    "tickers = pd.Series(tech_finance)"
   ]
  },
  {
   "cell_type": "code",
   "execution_count": 22,
   "id": "61c9beed",
   "metadata": {},
   "outputs": [
    {
     "data": {
      "text/plain": [
       "0    GOOG,APPL,AMZN\n",
       "1        JPM,BAC,GS\n",
       "dtype: object"
      ]
     },
     "execution_count": 22,
     "metadata": {},
     "output_type": "execute_result"
    }
   ],
   "source": [
    "tickers"
   ]
  },
  {
   "cell_type": "code",
   "execution_count": 23,
   "id": "340e8fb1",
   "metadata": {},
   "outputs": [
    {
     "data": {
      "text/plain": [
       "0    [GOOG, APPL, AMZN]\n",
       "1        [JPM, BAC, GS]\n",
       "dtype: object"
      ]
     },
     "execution_count": 23,
     "metadata": {},
     "output_type": "execute_result"
    }
   ],
   "source": [
    "tickers.str.split(',')"
   ]
  },
  {
   "cell_type": "code",
   "execution_count": 24,
   "id": "b9319095",
   "metadata": {},
   "outputs": [
    {
     "data": {
      "text/plain": [
       "0    GOOG\n",
       "1     JPM\n",
       "dtype: object"
      ]
     },
     "execution_count": 24,
     "metadata": {},
     "output_type": "execute_result"
    }
   ],
   "source": [
    "tickers.str.split(',').str[0] # pandas'a uygun string alma şekli"
   ]
  },
  {
   "cell_type": "code",
   "execution_count": 25,
   "id": "84f63535",
   "metadata": {},
   "outputs": [
    {
     "data": {
      "text/html": [
       "<div>\n",
       "<style scoped>\n",
       "    .dataframe tbody tr th:only-of-type {\n",
       "        vertical-align: middle;\n",
       "    }\n",
       "\n",
       "    .dataframe tbody tr th {\n",
       "        vertical-align: top;\n",
       "    }\n",
       "\n",
       "    .dataframe thead th {\n",
       "        text-align: right;\n",
       "    }\n",
       "</style>\n",
       "<table border=\"1\" class=\"dataframe\">\n",
       "  <thead>\n",
       "    <tr style=\"text-align: right;\">\n",
       "      <th></th>\n",
       "      <th>0</th>\n",
       "      <th>1</th>\n",
       "      <th>2</th>\n",
       "    </tr>\n",
       "  </thead>\n",
       "  <tbody>\n",
       "    <tr>\n",
       "      <th>0</th>\n",
       "      <td>GOOG</td>\n",
       "      <td>APPL</td>\n",
       "      <td>AMZN</td>\n",
       "    </tr>\n",
       "    <tr>\n",
       "      <th>1</th>\n",
       "      <td>JPM</td>\n",
       "      <td>BAC</td>\n",
       "      <td>GS</td>\n",
       "    </tr>\n",
       "  </tbody>\n",
       "</table>\n",
       "</div>"
      ],
      "text/plain": [
       "      0     1     2\n",
       "0  GOOG  APPL  AMZN\n",
       "1   JPM   BAC    GS"
      ]
     },
     "execution_count": 25,
     "metadata": {},
     "output_type": "execute_result"
    }
   ],
   "source": [
    "# series'deki üç sütuna bölrek tabloyu genişletebiiriz.\n",
    "tickers.str.split(',',expand=True)"
   ]
  },
  {
   "cell_type": "markdown",
   "id": "d51f9c01",
   "metadata": {},
   "source": [
    "## Strings Silme veya Düzenleme"
   ]
  },
  {
   "cell_type": "code",
   "execution_count": 26,
   "id": "cbd26ecf",
   "metadata": {},
   "outputs": [],
   "source": [
    "messy_names = pd.Series([\"andrew  \",\"bo;bo\",\"  claire  \"])"
   ]
  },
  {
   "cell_type": "code",
   "execution_count": 27,
   "id": "a5df57e7",
   "metadata": {},
   "outputs": [
    {
     "data": {
      "text/plain": [
       "0      andrew  \n",
       "1         bo;bo\n",
       "2      claire  \n",
       "dtype: object"
      ]
     },
     "execution_count": 27,
     "metadata": {},
     "output_type": "execute_result"
    }
   ],
   "source": [
    "# \"andrew  \" ve \"  claire  \" deki boşluk nedeniyle sağ taraftaki \n",
    "# 'yanlış hizalamaya' dikkat edin\n",
    "messy_names"
   ]
  },
  {
   "cell_type": "markdown",
   "id": "b8cbfd61",
   "metadata": {},
   "source": [
    "İlk göze çarpan şey bo;bo stringinin içerisindeki ; olduğudur. .str 'den sonra .replace() yöntemini çağırarak bunu ve \"\" ile yerdeğiştiririz."
   ]
  },
  {
   "cell_type": "code",
   "execution_count": 29,
   "id": "271ebeb6",
   "metadata": {},
   "outputs": [
    {
     "data": {
      "text/plain": [
       "0      andrew  \n",
       "1          bobo\n",
       "2      claire  \n",
       "dtype: object"
      ]
     },
     "execution_count": 29,
     "metadata": {},
     "output_type": "execute_result"
    }
   ],
   "source": [
    "messy_names.str.replace(\";\",\"\")"
   ]
  },
  {
   "cell_type": "code",
   "execution_count": 30,
   "id": "8f4f6984",
   "metadata": {},
   "outputs": [
    {
     "data": {
      "text/plain": [
       "0    andrew\n",
       "1     bo;bo\n",
       "2    claire\n",
       "dtype: object"
      ]
     },
     "execution_count": 30,
     "metadata": {},
     "output_type": "execute_result"
    }
   ],
   "source": [
    "messy_names.str.strip() # default olarak stringlerdeki boşlukları siler"
   ]
  },
  {
   "cell_type": "markdown",
   "id": "c540c07a",
   "metadata": {},
   "source": [
    "Şimdi ikisini birlikte uygulayarak ; ve gereksiz boşlukları pandas tablosundan aşağıdaki tek kod ile kaldıralım. Her durumda .str çağrısı kullnıldığına dikkat edin."
   ]
  },
  {
   "cell_type": "code",
   "execution_count": 31,
   "id": "38c6b6ac",
   "metadata": {},
   "outputs": [
    {
     "data": {
      "text/plain": [
       "0    andrew\n",
       "1      bobo\n",
       "2    claire\n",
       "dtype: object"
      ]
     },
     "execution_count": 31,
     "metadata": {},
     "output_type": "execute_result"
    }
   ],
   "source": [
    "messy_names.str.replace(\";\",\"\").str.strip() "
   ]
  },
  {
   "cell_type": "code",
   "execution_count": 32,
   "id": "38e417f9",
   "metadata": {},
   "outputs": [
    {
     "data": {
      "text/plain": [
       "0    Andrew\n",
       "1      Bobo\n",
       "2    Claire\n",
       "dtype: object"
      ]
     },
     "execution_count": 32,
     "metadata": {},
     "output_type": "execute_result"
    }
   ],
   "source": [
    "# son olarak tüm strinlerin ilk harflerini büyüttük\n",
    "messy_names.str.replace(\";\",\"\").str.strip().str.capitalize()"
   ]
  },
  {
   "cell_type": "markdown",
   "id": "076197ad",
   "metadata": {},
   "source": [
    "##  Özel apply() ile alternatif çağrı\n",
    "Buraya kadar yapılanları bir fonksiyon olarak tanımlayıp bunu .apply() yöntemi ile pandas series'a uygulayabiliriz."
   ]
  },
  {
   "cell_type": "code",
   "execution_count": 33,
   "id": "f1484bd6",
   "metadata": {},
   "outputs": [],
   "source": [
    "def cleanup(name):\n",
    "    name = name.replace(\";\",\"\")\n",
    "    name = name.strip()\n",
    "    name = name.capitalize()\n",
    "    return name"
   ]
  },
  {
   "cell_type": "code",
   "execution_count": 34,
   "id": "a2163b0a",
   "metadata": {},
   "outputs": [
    {
     "data": {
      "text/plain": [
       "0      andrew  \n",
       "1         bo;bo\n",
       "2      claire  \n",
       "dtype: object"
      ]
     },
     "execution_count": 34,
     "metadata": {},
     "output_type": "execute_result"
    }
   ],
   "source": [
    "messy_names"
   ]
  },
  {
   "cell_type": "code",
   "execution_count": 35,
   "id": "dbce5dbe",
   "metadata": {},
   "outputs": [
    {
     "data": {
      "text/plain": [
       "0    Andrew\n",
       "1      Bobo\n",
       "2    Claire\n",
       "dtype: object"
      ]
     },
     "execution_count": 35,
     "metadata": {},
     "output_type": "execute_result"
    }
   ],
   "source": [
    "messy_names.apply(cleanup)"
   ]
  },
  {
   "cell_type": "code",
   "execution_count": 36,
   "id": "0f3b7d60",
   "metadata": {},
   "outputs": [
    {
     "data": {
      "text/plain": [
       "0    Andrew\n",
       "1      Bobo\n",
       "2    Claire\n",
       "dtype: object"
      ]
     },
     "execution_count": 36,
     "metadata": {},
     "output_type": "execute_result"
    }
   ],
   "source": [
    "import numpy as np\n",
    "pd.Series(np.vectorize(cleanup)(messy_names))"
   ]
  },
  {
   "cell_type": "markdown",
   "id": "3086cf51",
   "metadata": {},
   "source": [
    "## Hangisi daha etkili?"
   ]
  },
  {
   "cell_type": "code",
   "execution_count": 37,
   "id": "01509a85",
   "metadata": {},
   "outputs": [],
   "source": [
    "import timeit \n",
    "  \n",
    "# code snippet to be executed only once \n",
    "setup = '''\n",
    "import pandas as pd\n",
    "import numpy as np\n",
    "messy_names = pd.Series([\"andrew  \",\"bo;bo\",\"  claire  \"])\n",
    "def cleanup(name):\n",
    "    name = name.replace(\";\",\"\")\n",
    "    name = name.strip()\n",
    "    name = name.capitalize()\n",
    "    return name\n",
    "'''\n",
    "  \n",
    "# code snippet whose execution time is to be measured \n",
    "stmt_pandas_str = ''' \n",
    "messy_names.str.replace(\";\",\"\").str.strip().str.capitalize()\n",
    "'''\n",
    "\n",
    "stmt_pandas_apply = '''\n",
    "messy_names.apply(cleanup)\n",
    "'''\n",
    "\n",
    "stmt_pandas_vectorize='''\n",
    "pd.Series(np.vectorize(cleanup)(messy_names))\n",
    "'''"
   ]
  },
  {
   "cell_type": "code",
   "execution_count": 38,
   "id": "81d8d6ed",
   "metadata": {},
   "outputs": [
    {
     "data": {
      "text/plain": [
       "1.6925081669999145"
      ]
     },
     "execution_count": 38,
     "metadata": {},
     "output_type": "execute_result"
    }
   ],
   "source": [
    "timeit.timeit(setup = setup, \n",
    "                    stmt = stmt_pandas_str, \n",
    "                    number = 10000) "
   ]
  },
  {
   "cell_type": "code",
   "execution_count": 39,
   "id": "0d6d241d",
   "metadata": {},
   "outputs": [
    {
     "data": {
      "text/plain": [
       "0.5813515840000036"
      ]
     },
     "execution_count": 39,
     "metadata": {},
     "output_type": "execute_result"
    }
   ],
   "source": [
    "timeit.timeit(setup = setup, \n",
    "                    stmt = stmt_pandas_apply, \n",
    "                    number = 10000) "
   ]
  },
  {
   "cell_type": "code",
   "execution_count": 40,
   "id": "0cd7d4cd",
   "metadata": {},
   "outputs": [
    {
     "data": {
      "text/plain": [
       "0.39205824999999095"
      ]
     },
     "execution_count": 40,
     "metadata": {},
     "output_type": "execute_result"
    }
   ],
   "source": [
    "timeit.timeit(setup = setup, \n",
    "                    stmt = stmt_pandas_vectorize, \n",
    "                    number = 10000) "
   ]
  },
  {
   "cell_type": "markdown",
   "id": "89d29934",
   "metadata": {},
   "source": [
    ".str() yöntemleri son derece uygun olsa da, performans söz konusu olduğunda np.vectorize() kullanmayı unutma!"
   ]
  },
  {
   "cell_type": "markdown",
   "id": "98f25175",
   "metadata": {},
   "source": [
    "# SON!"
   ]
  }
 ],
 "metadata": {
  "kernelspec": {
   "display_name": "Python 3 (ipykernel)",
   "language": "python",
   "name": "python3"
  },
  "language_info": {
   "codemirror_mode": {
    "name": "ipython",
    "version": 3
   },
   "file_extension": ".py",
   "mimetype": "text/x-python",
   "name": "python",
   "nbconvert_exporter": "python",
   "pygments_lexer": "ipython3",
   "version": "3.9.13"
  }
 },
 "nbformat": 4,
 "nbformat_minor": 5
}
