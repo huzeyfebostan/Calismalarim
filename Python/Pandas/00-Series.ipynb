{
 "cells": [
  {
   "cell_type": "markdown",
   "id": "5564f6d0",
   "metadata": {},
   "source": [
    "# Series Nesnesi"
   ]
  },
  {
   "cell_type": "markdown",
   "id": "20bce917",
   "metadata": {},
   "source": [
    "**Pandas**'da öğrenilecek ilk temel veri tipi Series'dir.\n",
    "\n",
    "Series, NumPy dizisine çok benzerdir (aslında NumPy array nesnesinin üzerine inşa edilmiştir). NumPy dizisini bir Series'ten ayıran şey Series'ın eksen etiketlerine sahip olabilmesidir, yani yalnızca bir sayı konumu yerine etiketle de indekslenebilmesidir. Ayrıca sayısal verileri tutması gerekmez, isteğe bağlı olarak herhangi bir Python nesnesini tutabilir."
   ]
  },
  {
   "cell_type": "code",
   "execution_count": 2,
   "id": "4918dda0",
   "metadata": {},
   "outputs": [],
   "source": [
    "import numpy as np\n",
    "import pandas as pd"
   ]
  },
  {
   "cell_type": "markdown",
   "id": "0b6bcc3f",
   "metadata": {},
   "source": [
    "## Python Nesnelerinden Series Oluşturma"
   ]
  },
  {
   "cell_type": "markdown",
   "id": "76eac454",
   "metadata": {},
   "source": [
    "### Indeks ve Veri Listeleri\n",
    "\n",
    "Python listelerinden bir Series oluşturma:"
   ]
  },
  {
   "cell_type": "code",
   "execution_count": 15,
   "id": "6a3e651f",
   "metadata": {},
   "outputs": [],
   "source": [
    "myindex = ['USA','Can',\"Mex\"] #index listesi"
   ]
  },
  {
   "cell_type": "code",
   "execution_count": 16,
   "id": "0f372965",
   "metadata": {},
   "outputs": [],
   "source": [
    "mydata = [1776, 1867, 1821] #veri listesi"
   ]
  },
  {
   "cell_type": "code",
   "execution_count": 17,
   "id": "c5d64273",
   "metadata": {},
   "outputs": [],
   "source": [
    "myser = pd.Series(data=mydata) #Series listesi"
   ]
  },
  {
   "cell_type": "code",
   "execution_count": 18,
   "id": "e77dfeec",
   "metadata": {},
   "outputs": [
    {
     "data": {
      "text/plain": [
       "0    1776\n",
       "1    1867\n",
       "2    1821\n",
       "dtype: int64"
      ]
     },
     "execution_count": 18,
     "metadata": {},
     "output_type": "execute_result"
    }
   ],
   "source": [
    "myser"
   ]
  },
  {
   "cell_type": "code",
   "execution_count": 21,
   "id": "3728dc89",
   "metadata": {},
   "outputs": [
    {
     "data": {
      "text/plain": [
       "USA    1776\n",
       "Can    1867\n",
       "Mex    1821\n",
       "dtype: int64"
      ]
     },
     "execution_count": 21,
     "metadata": {},
     "output_type": "execute_result"
    }
   ],
   "source": [
    "df = pd.Series(data=mydata, index=myindex)\n",
    "df"
   ]
  },
  {
   "cell_type": "code",
   "execution_count": 22,
   "id": "60a29e5f",
   "metadata": {},
   "outputs": [
    {
     "data": {
      "text/plain": [
       "1867"
      ]
     },
     "execution_count": 22,
     "metadata": {},
     "output_type": "execute_result"
    }
   ],
   "source": [
    "df['Can']"
   ]
  },
  {
   "cell_type": "markdown",
   "id": "1509eb9b",
   "metadata": {},
   "source": [
    "### NumPy dizilerinden bir Series oluşturma"
   ]
  },
  {
   "cell_type": "code",
   "execution_count": 27,
   "id": "cf75605c",
   "metadata": {},
   "outputs": [],
   "source": [
    "ran_data = np.random.randint(0,100,4)"
   ]
  },
  {
   "cell_type": "code",
   "execution_count": 28,
   "id": "87dad7d5",
   "metadata": {},
   "outputs": [
    {
     "data": {
      "text/plain": [
       "array([76, 86, 99,  8])"
      ]
     },
     "execution_count": 28,
     "metadata": {},
     "output_type": "execute_result"
    }
   ],
   "source": [
    "ran_data"
   ]
  },
  {
   "cell_type": "code",
   "execution_count": 29,
   "id": "ec1ab78a",
   "metadata": {},
   "outputs": [],
   "source": [
    "names = ['Andrew', 'Bobo', 'Claire', 'David']"
   ]
  },
  {
   "cell_type": "code",
   "execution_count": 34,
   "id": "303daf12",
   "metadata": {},
   "outputs": [],
   "source": [
    "ages = pd.Series(ran_data, names)"
   ]
  },
  {
   "cell_type": "code",
   "execution_count": 35,
   "id": "57d5fe1c",
   "metadata": {},
   "outputs": [
    {
     "data": {
      "text/plain": [
       "Andrew    76\n",
       "Bobo      86\n",
       "Claire    99\n",
       "David      8\n",
       "dtype: int64"
      ]
     },
     "execution_count": 35,
     "metadata": {},
     "output_type": "execute_result"
    }
   ],
   "source": [
    "ages"
   ]
  },
  {
   "cell_type": "code",
   "execution_count": 36,
   "id": "17b949a0",
   "metadata": {},
   "outputs": [
    {
     "data": {
      "text/plain": [
       "8"
      ]
     },
     "execution_count": 36,
     "metadata": {},
     "output_type": "execute_result"
    }
   ],
   "source": [
    "ages['David']"
   ]
  },
  {
   "cell_type": "markdown",
   "id": "255df8d5",
   "metadata": {},
   "source": [
    "### Bir Dictionary'den Series oluşturma"
   ]
  },
  {
   "cell_type": "code",
   "execution_count": 37,
   "id": "23e11865",
   "metadata": {},
   "outputs": [],
   "source": [
    "ages = {'Sammy':5,'Frank':10,'Spike':7}"
   ]
  },
  {
   "cell_type": "code",
   "execution_count": 38,
   "id": "06b7f34d",
   "metadata": {},
   "outputs": [
    {
     "data": {
      "text/plain": [
       "{'Sammy': 5, 'Frank': 10, 'Spike': 7}"
      ]
     },
     "execution_count": 38,
     "metadata": {},
     "output_type": "execute_result"
    }
   ],
   "source": [
    "ages"
   ]
  },
  {
   "cell_type": "code",
   "execution_count": 39,
   "id": "f1a23557",
   "metadata": {},
   "outputs": [
    {
     "data": {
      "text/plain": [
       "Sammy     5\n",
       "Frank    10\n",
       "Spike     7\n",
       "dtype: int64"
      ]
     },
     "execution_count": 39,
     "metadata": {},
     "output_type": "execute_result"
    }
   ],
   "source": [
    "pd.Series(ages)"
   ]
  },
  {
   "cell_type": "markdown",
   "id": "9a1fc728",
   "metadata": {},
   "source": [
    "# Series'ın anahtar fikri\n",
    "\n",
    "## Adlandırılmış Dizin (İndeks)"
   ]
  },
  {
   "cell_type": "code",
   "execution_count": 40,
   "id": "0c748438",
   "metadata": {},
   "outputs": [],
   "source": [
    "# Global bir şirkete ait 1. ve 2. Çeyrek için Hayali Satış Verileri\n",
    "q1 = {'Japan': 80, 'China': 450, 'India': 200, 'USA': 250}\n",
    "q2 = {'Brazil': 100,'China': 500, 'India': 210,'USA': 260}"
   ]
  },
  {
   "cell_type": "code",
   "execution_count": 41,
   "id": "1351460d",
   "metadata": {},
   "outputs": [],
   "source": [
    "# Pandas Serisine Dönüştürme\n",
    "sales_Q1 = pd.Series(q1)\n",
    "sales_Q2 = pd.Series(q2)"
   ]
  },
  {
   "cell_type": "code",
   "execution_count": 42,
   "id": "3e9c2541",
   "metadata": {},
   "outputs": [
    {
     "data": {
      "text/plain": [
       "Japan     80\n",
       "China    450\n",
       "India    200\n",
       "USA      250\n",
       "dtype: int64"
      ]
     },
     "execution_count": 42,
     "metadata": {},
     "output_type": "execute_result"
    }
   ],
   "source": [
    "sales_Q1"
   ]
  },
  {
   "cell_type": "code",
   "execution_count": 43,
   "id": "c5ff4c51",
   "metadata": {},
   "outputs": [
    {
     "data": {
      "text/plain": [
       "80"
      ]
     },
     "execution_count": 43,
     "metadata": {},
     "output_type": "execute_result"
    }
   ],
   "source": [
    "# Adlandırılmış Dizine dayalı arama değerleri\n",
    "sales_Q1['Japan']"
   ]
  },
  {
   "cell_type": "code",
   "execution_count": 44,
   "id": "19779134",
   "metadata": {},
   "outputs": [
    {
     "data": {
      "text/plain": [
       "80"
      ]
     },
     "execution_count": 44,
     "metadata": {},
     "output_type": "execute_result"
    }
   ],
   "source": [
    "# Tamsayı Tabanlı indeks bilgileri ile de değer alınabilir!\n",
    "sales_Q1[0]"
   ]
  },
  {
   "cell_type": "markdown",
   "id": "97571a56",
   "metadata": {},
   "source": [
    "**Olası hatalar!**"
   ]
  },
  {
   "cell_type": "code",
   "execution_count": 45,
   "id": "24e3ce1f",
   "metadata": {},
   "outputs": [],
   "source": [
    "# Yanlış isim\n",
    "# sales_Q1['France']"
   ]
  },
  {
   "cell_type": "code",
   "execution_count": 46,
   "id": "f5402389",
   "metadata": {},
   "outputs": [],
   "source": [
    "# Kazayla Oluşan Ekstra Boşluklar\n",
    "# sales_Q1['USA ']"
   ]
  },
  {
   "cell_type": "code",
   "execution_count": 47,
   "id": "8d9fee26",
   "metadata": {},
   "outputs": [],
   "source": [
    "# Büyük Harf Hatası\n",
    "# sales_Q1['usa']"
   ]
  },
  {
   "cell_type": "markdown",
   "id": "f183f067",
   "metadata": {},
   "source": [
    "## İşlemler"
   ]
  },
  {
   "cell_type": "code",
   "execution_count": 48,
   "id": "31ff4f26",
   "metadata": {},
   "outputs": [
    {
     "data": {
      "text/plain": [
       "Index(['Japan', 'China', 'India', 'USA'], dtype='object')"
      ]
     },
     "execution_count": 48,
     "metadata": {},
     "output_type": "execute_result"
    }
   ],
   "source": [
    "# İndeks anahtarlarını alma\n",
    "sales_Q1.keys()"
   ]
  },
  {
   "cell_type": "code",
   "execution_count": 49,
   "id": "58594a17",
   "metadata": {},
   "outputs": [
    {
     "data": {
      "text/plain": [
       "Index(['Brazil', 'China', 'India', 'USA'], dtype='object')"
      ]
     },
     "execution_count": 49,
     "metadata": {},
     "output_type": "execute_result"
    }
   ],
   "source": [
    "sales_Q2.keys()"
   ]
  },
  {
   "cell_type": "code",
   "execution_count": 50,
   "id": "c988e4ee",
   "metadata": {},
   "outputs": [
    {
     "data": {
      "text/plain": [
       "Japan    160\n",
       "China    900\n",
       "India    400\n",
       "USA      500\n",
       "dtype: int64"
      ]
     },
     "execution_count": 50,
     "metadata": {},
     "output_type": "execute_result"
    }
   ],
   "source": [
    "# Tüm Series'lerde Yayınlama İşlemleri Gerçekleştirebilir\n",
    "sales_Q1 * 2"
   ]
  },
  {
   "cell_type": "code",
   "execution_count": 51,
   "id": "62c8a364",
   "metadata": {},
   "outputs": [
    {
     "data": {
      "text/plain": [
       "Brazil    1.0\n",
       "China     5.0\n",
       "India     2.1\n",
       "USA       2.6\n",
       "dtype: float64"
      ]
     },
     "execution_count": 51,
     "metadata": {},
     "output_type": "execute_result"
    }
   ],
   "source": [
    "sales_Q2 / 100"
   ]
  },
  {
   "cell_type": "code",
   "execution_count": 52,
   "id": "eff43e73",
   "metadata": {},
   "outputs": [
    {
     "data": {
      "text/plain": [
       "Brazil    100\n",
       "China     500\n",
       "India     210\n",
       "USA       260\n",
       "dtype: int64"
      ]
     },
     "execution_count": 52,
     "metadata": {},
     "output_type": "execute_result"
    }
   ],
   "source": [
    "sales_Q2"
   ]
  },
  {
   "cell_type": "markdown",
   "id": "7828a0ff",
   "metadata": {},
   "source": [
    "## Seriler Arası işlemler"
   ]
  },
  {
   "cell_type": "code",
   "execution_count": 53,
   "id": "ec5b19cf",
   "metadata": {},
   "outputs": [
    {
     "data": {
      "text/plain": [
       "Brazil      NaN\n",
       "China     950.0\n",
       "India     410.0\n",
       "Japan       NaN\n",
       "USA       510.0\n",
       "dtype: float64"
      ]
     },
     "execution_count": 53,
     "metadata": {},
     "output_type": "execute_result"
    }
   ],
   "source": [
    "# Pandas'ın sizi NaN ile uyumsuzluk konusunda nasıl bilgilendirdiğine dikkat edin\n",
    "sales_Q1 + sales_Q2"
   ]
  },
  {
   "cell_type": "code",
   "execution_count": 54,
   "id": "d8f0822f",
   "metadata": {},
   "outputs": [
    {
     "data": {
      "text/plain": [
       "Brazil    100.0\n",
       "China     950.0\n",
       "India     410.0\n",
       "Japan      80.0\n",
       "USA       510.0\n",
       "dtype: float64"
      ]
     },
     "execution_count": 54,
     "metadata": {},
     "output_type": "execute_result"
    }
   ],
   "source": [
    "# Bunları istediğiniz herhangi bir değerle doldurabilirsiniz.\n",
    "sales_Q1.add(sales_Q2, fill_value=0)"
   ]
  },
  {
   "cell_type": "markdown",
   "id": "66e53f20",
   "metadata": {},
   "source": [
    "Seriler bu kadar :))"
   ]
  }
 ],
 "metadata": {
  "kernelspec": {
   "display_name": "Python 3 (ipykernel)",
   "language": "python",
   "name": "python3"
  },
  "language_info": {
   "codemirror_mode": {
    "name": "ipython",
    "version": 3
   },
   "file_extension": ".py",
   "mimetype": "text/x-python",
   "name": "python",
   "nbconvert_exporter": "python",
   "pygments_lexer": "ipython3",
   "version": "3.9.12"
  }
 },
 "nbformat": 4,
 "nbformat_minor": 5
}
