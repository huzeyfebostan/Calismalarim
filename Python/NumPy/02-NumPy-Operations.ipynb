{
 "cells": [
  {
   "cell_type": "markdown",
   "id": "004951c6",
   "metadata": {},
   "source": [
    "## NumPy İşlemleri"
   ]
  },
  {
   "cell_type": "markdown",
   "id": "b79a6c05",
   "metadata": {},
   "source": [
    "## Aritmetik\n",
    "\n",
    "Dizilerle, diziler veya dizilerle, skalerler arasında aritmetik  işlemleri kolayca yapabilirsiniz."
   ]
  },
  {
   "cell_type": "code",
   "execution_count": 1,
   "id": "622f1008",
   "metadata": {},
   "outputs": [],
   "source": [
    "import numpy as np"
   ]
  },
  {
   "cell_type": "code",
   "execution_count": 2,
   "id": "cd424ef2",
   "metadata": {},
   "outputs": [
    {
     "data": {
      "text/plain": [
       "array([0, 1, 2, 3, 4, 5, 6, 7, 8, 9])"
      ]
     },
     "execution_count": 2,
     "metadata": {},
     "output_type": "execute_result"
    }
   ],
   "source": [
    "arr = np.arange(0,10)\n",
    "arr"
   ]
  },
  {
   "cell_type": "code",
   "execution_count": 3,
   "id": "ebac3f5e",
   "metadata": {},
   "outputs": [
    {
     "data": {
      "text/plain": [
       "array([ 5,  6,  7,  8,  9, 10, 11, 12, 13, 14])"
      ]
     },
     "execution_count": 3,
     "metadata": {},
     "output_type": "execute_result"
    }
   ],
   "source": [
    "arr + 5 # dizinin elemanlarının herbirine 5 skalerini ekler"
   ]
  },
  {
   "cell_type": "code",
   "execution_count": 4,
   "id": "29cebd6c",
   "metadata": {},
   "outputs": [
    {
     "data": {
      "text/plain": [
       "[0, 1, 2, 3, 4, 5, 6, 7, 8, 9, 0, 1, 2, 3, 4, 5, 6, 7, 8, 9]"
      ]
     },
     "execution_count": 4,
     "metadata": {},
     "output_type": "execute_result"
    }
   ],
   "source": [
    "list = [0, 1, 2, 3, 4, 5, 6, 7, 8, 9] # dizinin elemanlarını çoğaltır\n",
    "list * 2"
   ]
  },
  {
   "cell_type": "code",
   "execution_count": 5,
   "id": "882585e6",
   "metadata": {},
   "outputs": [
    {
     "data": {
      "text/plain": [
       "array([ 0,  2,  4,  6,  8, 10, 12, 14, 16, 18])"
      ]
     },
     "execution_count": 5,
     "metadata": {},
     "output_type": "execute_result"
    }
   ],
   "source": [
    "arr + arr"
   ]
  },
  {
   "cell_type": "code",
   "execution_count": 6,
   "id": "8c63d8f6",
   "metadata": {},
   "outputs": [
    {
     "data": {
      "text/plain": [
       "array([ 0,  1,  4,  9, 16, 25, 36, 49, 64, 81])"
      ]
     },
     "execution_count": 6,
     "metadata": {},
     "output_type": "execute_result"
    }
   ],
   "source": [
    "arr * arr "
   ]
  },
  {
   "cell_type": "code",
   "execution_count": 7,
   "id": "f3ec8d9a",
   "metadata": {},
   "outputs": [
    {
     "data": {
      "text/plain": [
       "array([0, 0, 0, 0, 0, 0, 0, 0, 0, 0])"
      ]
     },
     "execution_count": 7,
     "metadata": {},
     "output_type": "execute_result"
    }
   ],
   "source": [
    "arr - arr"
   ]
  },
  {
   "cell_type": "code",
   "execution_count": 8,
   "id": "71b7e441",
   "metadata": {},
   "outputs": [
    {
     "name": "stderr",
     "output_type": "stream",
     "text": [
      "/var/folders/_s/bc6zc6vj4ns_qtdjxhylpyww0000gn/T/ipykernel_2337/582049721.py:3: RuntimeWarning: invalid value encountered in true_divide\n",
      "  arr / arr\n"
     ]
    },
    {
     "data": {
      "text/plain": [
       "array([nan,  1.,  1.,  1.,  1.,  1.,  1.,  1.,  1.,  1.])"
      ]
     },
     "execution_count": 8,
     "metadata": {},
     "output_type": "execute_result"
    }
   ],
   "source": [
    "# Bu işlem, sıfıra bölme konusunda bir uyarı verir, \n",
    "# ancak bir hata oluşturmaz! Sadece konumu **nan** ile doldurur\n",
    "arr / arr"
   ]
  },
  {
   "cell_type": "code",
   "execution_count": 9,
   "id": "97414207",
   "metadata": {},
   "outputs": [
    {
     "name": "stderr",
     "output_type": "stream",
     "text": [
      "/var/folders/_s/bc6zc6vj4ns_qtdjxhylpyww0000gn/T/ipykernel_2337/2696729746.py:2: RuntimeWarning: divide by zero encountered in true_divide\n",
      "  1 / arr\n"
     ]
    },
    {
     "data": {
      "text/plain": [
       "array([       inf, 1.        , 0.5       , 0.33333333, 0.25      ,\n",
       "       0.2       , 0.16666667, 0.14285714, 0.125     , 0.11111111])"
      ]
     },
     "execution_count": 9,
     "metadata": {},
     "output_type": "execute_result"
    }
   ],
   "source": [
    "# Ayrıca sonsuzla ilgili bir uyarı (ama bir hata değil) verir\n",
    "1 / arr"
   ]
  },
  {
   "cell_type": "code",
   "execution_count": 10,
   "id": "66f0a2ec",
   "metadata": {},
   "outputs": [
    {
     "data": {
      "text/plain": [
       "array([  0,   1,   8,  27,  64, 125, 216, 343, 512, 729])"
      ]
     },
     "execution_count": 10,
     "metadata": {},
     "output_type": "execute_result"
    }
   ],
   "source": [
    "arr**3"
   ]
  },
  {
   "cell_type": "markdown",
   "id": "7d86881b",
   "metadata": {},
   "source": [
    "## Evrensel Dizi Fonksiyonları\n",
    "\n",
    "NumPy matematiksel işlem yapan birçok evrensel dizi fonksiyonuna sahiptir: (http://docs.scipy.org/doc/numpy/reference/ufuncs.html).\n",
    "\n",
    "Yaygın olanları gösterelim:"
   ]
  },
  {
   "cell_type": "code",
   "execution_count": 12,
   "id": "85a5a211",
   "metadata": {},
   "outputs": [
    {
     "data": {
      "text/plain": [
       "array([0.        , 1.        , 1.41421356, 1.73205081, 2.        ,\n",
       "       2.23606798, 2.44948974, 2.64575131, 2.82842712, 3.        ])"
      ]
     },
     "execution_count": 12,
     "metadata": {},
     "output_type": "execute_result"
    }
   ],
   "source": [
    "# Karekök Alma\n",
    "np.sqrt(arr)"
   ]
  },
  {
   "cell_type": "code",
   "execution_count": 13,
   "id": "4cffbaec",
   "metadata": {},
   "outputs": [
    {
     "data": {
      "text/plain": [
       "array([1.00000000e+00, 2.71828183e+00, 7.38905610e+00, 2.00855369e+01,\n",
       "       5.45981500e+01, 1.48413159e+02, 4.03428793e+02, 1.09663316e+03,\n",
       "       2.98095799e+03, 8.10308393e+03])"
      ]
     },
     "execution_count": 13,
     "metadata": {},
     "output_type": "execute_result"
    }
   ],
   "source": [
    "# üstel hesaplama (e^arr)\n",
    "np.exp(arr)"
   ]
  },
  {
   "cell_type": "code",
   "execution_count": 14,
   "id": "631edd2f",
   "metadata": {},
   "outputs": [
    {
     "data": {
      "text/plain": [
       "array([ 0.        ,  0.84147098,  0.90929743,  0.14112001, -0.7568025 ,\n",
       "       -0.95892427, -0.2794155 ,  0.6569866 ,  0.98935825,  0.41211849])"
      ]
     },
     "execution_count": 14,
     "metadata": {},
     "output_type": "execute_result"
    }
   ],
   "source": [
    "# Sinüs gibi trigonometrik fonksiyonlar\n",
    "np.sin(arr)"
   ]
  },
  {
   "cell_type": "code",
   "execution_count": 15,
   "id": "aa0535dd",
   "metadata": {},
   "outputs": [
    {
     "name": "stderr",
     "output_type": "stream",
     "text": [
      "/var/folders/_s/bc6zc6vj4ns_qtdjxhylpyww0000gn/T/ipykernel_2337/443999168.py:2: RuntimeWarning: divide by zero encountered in log\n",
      "  np.log(arr)\n"
     ]
    },
    {
     "data": {
      "text/plain": [
       "array([      -inf, 0.        , 0.69314718, 1.09861229, 1.38629436,\n",
       "       1.60943791, 1.79175947, 1.94591015, 2.07944154, 2.19722458])"
      ]
     },
     "execution_count": 15,
     "metadata": {},
     "output_type": "execute_result"
    }
   ],
   "source": [
    "# Doğal Logaritma alma\n",
    "np.log(arr)"
   ]
  },
  {
   "cell_type": "markdown",
   "id": "f97edc1f",
   "metadata": {},
   "source": [
    "## Dizilerle İlgili Özet İstatistikler\n",
    "\n",
    "NumPy, **sum, mean ve max** gibi genel özet istatistikleri de sunar. Bunlar bir dizideki yöntemler olarak çağırılır."
   ]
  },
  {
   "cell_type": "code",
   "execution_count": 26,
   "id": "4170a24e",
   "metadata": {},
   "outputs": [
    {
     "data": {
      "text/plain": [
       "array([0, 1, 2, 3, 4, 5, 6, 7, 8, 9])"
      ]
     },
     "execution_count": 26,
     "metadata": {},
     "output_type": "execute_result"
    }
   ],
   "source": [
    "arr = np.arange(0,10)\n",
    "arr"
   ]
  },
  {
   "cell_type": "code",
   "execution_count": 20,
   "id": "ac87c04b",
   "metadata": {},
   "outputs": [
    {
     "data": {
      "text/plain": [
       "45"
      ]
     },
     "execution_count": 20,
     "metadata": {},
     "output_type": "execute_result"
    }
   ],
   "source": [
    "arr.sum()"
   ]
  },
  {
   "cell_type": "code",
   "execution_count": 21,
   "id": "01fd884c",
   "metadata": {},
   "outputs": [
    {
     "data": {
      "text/plain": [
       "4.5"
      ]
     },
     "execution_count": 21,
     "metadata": {},
     "output_type": "execute_result"
    }
   ],
   "source": [
    "arr.mean() "
   ]
  },
  {
   "cell_type": "code",
   "execution_count": 22,
   "id": "5d36042c",
   "metadata": {},
   "outputs": [
    {
     "data": {
      "text/plain": [
       "9"
      ]
     },
     "execution_count": 22,
     "metadata": {},
     "output_type": "execute_result"
    }
   ],
   "source": [
    "arr.max()"
   ]
  },
  {
   "cell_type": "code",
   "execution_count": 27,
   "id": "06ad72db",
   "metadata": {},
   "outputs": [
    {
     "data": {
      "text/plain": [
       "2.8722813232690143"
      ]
     },
     "execution_count": 27,
     "metadata": {},
     "output_type": "execute_result"
    }
   ],
   "source": [
    "arr.std()"
   ]
  },
  {
   "cell_type": "code",
   "execution_count": 28,
   "id": "72ccd90d",
   "metadata": {},
   "outputs": [
    {
     "data": {
      "text/plain": [
       "8.25"
      ]
     },
     "execution_count": 28,
     "metadata": {},
     "output_type": "execute_result"
    }
   ],
   "source": [
    "arr.var()"
   ]
  },
  {
   "cell_type": "markdown",
   "id": "df3c76dd",
   "metadata": {},
   "source": [
    "<strong>Diğer özet istatistikler şunları içerir::</strong>\n",
    "<pre>\n",
    "arr.min() returns 0                   minimum\n",
    "arr.var() returns 8.25                varyans\n",
    "arr.std() returns 2.8722813232690143  standard sapma\n",
    "</pre>"
   ]
  },
  {
   "cell_type": "markdown",
   "id": "b08dd415",
   "metadata": {},
   "source": [
    "## Eksen Mantığı\n",
    "2-boyutlu dizilerle (matrisler) çalışırken satırları ve sütunları dikkate almalıyız. Dizi terimlerinde, axis=0 (satırlar boyunca) dikey eksen ve axis=1 (sütunlar boyunca) yatay eksendir. Bu değerler, <tt>arr.shape</tt> değerlerinin döndürüldüğü sıraya karşılık gelir.\n",
    "\n",
    "Bunun, yukarıdaki özet istatistik hesaplamalarımızı nasıl etkilediğine bakalım."
   ]
  },
  {
   "cell_type": "code",
   "execution_count": 29,
   "id": "849f8d22",
   "metadata": {},
   "outputs": [
    {
     "data": {
      "text/plain": [
       "array([[ 1,  2,  3,  4],\n",
       "       [ 5,  6,  7,  8],\n",
       "       [ 9, 10, 11, 12]])"
      ]
     },
     "execution_count": 29,
     "metadata": {},
     "output_type": "execute_result"
    }
   ],
   "source": [
    "arr_2d = np.array([[1,2,3,4],[5,6,7,8],[9,10,11,12]])\n",
    "arr_2d"
   ]
  },
  {
   "cell_type": "code",
   "execution_count": 30,
   "id": "48d649b0",
   "metadata": {},
   "outputs": [
    {
     "data": {
      "text/plain": [
       "array([15, 18, 21, 24])"
      ]
     },
     "execution_count": 30,
     "metadata": {},
     "output_type": "execute_result"
    }
   ],
   "source": [
    "arr_2d.sum(axis=0)"
   ]
  },
  {
   "cell_type": "markdown",
   "id": "e3ff4b89",
   "metadata": {},
   "source": [
    "<tt>axis=0</tt> ile dikey eksen boyuncaki matrisin elemanlarının toplamı döndürülür. Yani, <tt>[(1+5+9), (2+6+10), (3+7+11), (4+8+12)]</tt>\n",
    "\n",
    "<img src='image/axis_logic.png' width=400/>"
   ]
  },
  {
   "cell_type": "code",
   "execution_count": 34,
   "id": "3c07e909",
   "metadata": {},
   "outputs": [
    {
     "data": {
      "text/plain": [
       "(3, 4)"
      ]
     },
     "execution_count": 34,
     "metadata": {},
     "output_type": "execute_result"
    }
   ],
   "source": [
    "arr_2d.shape"
   ]
  },
  {
   "cell_type": "markdown",
   "id": "f8d2f300",
   "metadata": {},
   "source": [
    "<tt>arr_2d</tt> dizisinin 3 satır, 4 sütuna sahip olduğunu söyler.\n",
    "\n",
    "<tt>arr_2d.sum(axis=0)</tt> 'de, her satırdaki ilk eleman toplanır, ardından ikinci eleman ve bu böyle devam eder."
   ]
  },
  {
   "cell_type": "code",
   "execution_count": 35,
   "id": "6c03a7c9",
   "metadata": {},
   "outputs": [
    {
     "data": {
      "text/plain": [
       "array([10, 26, 42])"
      ]
     },
     "execution_count": 35,
     "metadata": {},
     "output_type": "execute_result"
    }
   ],
   "source": [
    "# HÜCREYİ ÇALIŞTIRMADAN ÖNCE NEYİ DÖNDÜRECEĞİNİ DÜŞÜNÜN!\n",
    "arr_2d.sum(axis=1)"
   ]
  },
  {
   "cell_type": "markdown",
   "id": "0ed89b59",
   "metadata": {},
   "source": [
    "# SON!"
   ]
  }
 ],
 "metadata": {
  "kernelspec": {
   "display_name": "Python 3 (ipykernel)",
   "language": "python",
   "name": "python3"
  },
  "language_info": {
   "codemirror_mode": {
    "name": "ipython",
    "version": 3
   },
   "file_extension": ".py",
   "mimetype": "text/x-python",
   "name": "python",
   "nbconvert_exporter": "python",
   "pygments_lexer": "ipython3",
   "version": "3.9.13"
  }
 },
 "nbformat": 4,
 "nbformat_minor": 5
}
