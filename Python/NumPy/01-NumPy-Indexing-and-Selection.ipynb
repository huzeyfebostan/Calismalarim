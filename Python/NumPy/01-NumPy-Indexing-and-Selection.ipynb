{
 "cells": [
  {
   "cell_type": "markdown",
   "id": "9ba5ac60",
   "metadata": {},
   "source": [
    "# NumPy: İndeksleme ve Seçim"
   ]
  },
  {
   "cell_type": "code",
   "execution_count": 1,
   "id": "0ccf8701",
   "metadata": {},
   "outputs": [],
   "source": [
    "import numpy as np"
   ]
  },
  {
   "cell_type": "code",
   "execution_count": 2,
   "id": "a1d6c39b",
   "metadata": {},
   "outputs": [],
   "source": [
    "# Örnek dizi oluşturma\n",
    "arr = np.arange(0,11)"
   ]
  },
  {
   "cell_type": "code",
   "execution_count": 3,
   "id": "af6ebc4b",
   "metadata": {},
   "outputs": [
    {
     "data": {
      "text/plain": [
       "array([ 0,  1,  2,  3,  4,  5,  6,  7,  8,  9, 10])"
      ]
     },
     "execution_count": 3,
     "metadata": {},
     "output_type": "execute_result"
    }
   ],
   "source": [
    "# Diziyi gösterme\n",
    "arr"
   ]
  },
  {
   "cell_type": "markdown",
   "id": "51efe76c",
   "metadata": {},
   "source": [
    "## Parantez İndeksleme ve Seçimi\n",
    "Bir dizinin bir veya bazı elemanlarını seçmenin en basit yolu, python listesine çok benzer"
   ]
  },
  {
   "cell_type": "code",
   "execution_count": 4,
   "id": "1315de2c",
   "metadata": {},
   "outputs": [
    {
     "data": {
      "text/plain": [
       "8"
      ]
     },
     "execution_count": 4,
     "metadata": {},
     "output_type": "execute_result"
    }
   ],
   "source": [
    "# Bir indeksteki değeri alma\n",
    "arr[8]"
   ]
  },
  {
   "cell_type": "code",
   "execution_count": 5,
   "id": "e2cf5e97",
   "metadata": {},
   "outputs": [
    {
     "data": {
      "text/plain": [
       "array([1, 2, 3, 4])"
      ]
     },
     "execution_count": 5,
     "metadata": {},
     "output_type": "execute_result"
    }
   ],
   "source": [
    "# Bir aralıktaki değerleri alma\n",
    "arr[1:5]"
   ]
  },
  {
   "cell_type": "code",
   "execution_count": 6,
   "id": "a95e889a",
   "metadata": {},
   "outputs": [
    {
     "data": {
      "text/plain": [
       "array([0, 1, 2, 3, 4])"
      ]
     },
     "execution_count": 6,
     "metadata": {},
     "output_type": "execute_result"
    }
   ],
   "source": [
    "# Bir aralıktaki değerleri alma\n",
    "arr[:5]"
   ]
  },
  {
   "cell_type": "markdown",
   "id": "f3174092",
   "metadata": {},
   "source": [
    "## Yayınlama (Broadcasting)\n",
    "\n",
    "NumPy dizileri, yayınlama yetenekleri nedeniyle normal Python listelerinden farklıdır. Listelerle, aynı boyut ve şekle sahip yeni bir listeye yeniden atayabilirsiniz. Yani, bir listedeki ilk 5 elemanı yeni bir değerle değiştirmek isterseniz, yeni bir 5 elemanlı listeye geçmeniz gerekir. NumPy dizileriyle, büyük bir indeks aralığında tek bir değer yayınlayabilirsiniz"
   ]
  },
  {
   "cell_type": "code",
   "execution_count": 7,
   "id": "8fbdec5d",
   "metadata": {},
   "outputs": [
    {
     "data": {
      "text/plain": [
       "array([100, 100, 100, 100, 100,   5,   6,   7,   8,   9,  10])"
      ]
     },
     "execution_count": 7,
     "metadata": {},
     "output_type": "execute_result"
    }
   ],
   "source": [
    "# İndeks aralığı ile değer ayarlama (Yayınlama-Broadcasting)\n",
    "arr[0:5] = 100\n",
    "arr"
   ]
  },
  {
   "cell_type": "code",
   "execution_count": 8,
   "id": "9243cf02",
   "metadata": {},
   "outputs": [
    {
     "data": {
      "text/plain": [
       "array([ 0,  1,  2,  3,  4,  5,  6,  7,  8,  9, 10])"
      ]
     },
     "execution_count": 8,
     "metadata": {},
     "output_type": "execute_result"
    }
   ],
   "source": [
    "# Diziyi sıfırla, birazdan neden sıfırlamak zorunda kaldığımızı anlayacağız\n",
    "arr = np.arange(0,11)\n",
    "arr"
   ]
  },
  {
   "cell_type": "code",
   "execution_count": 9,
   "id": "7c236ab2",
   "metadata": {},
   "outputs": [
    {
     "data": {
      "text/plain": [
       "array([0, 1, 2, 3, 4, 5])"
      ]
     },
     "execution_count": 9,
     "metadata": {},
     "output_type": "execute_result"
    }
   ],
   "source": [
    "# Dilimler hakkında önemli notlar\n",
    "slice_of_arr = arr[0:6]\n",
    "slice_of_arr"
   ]
  },
  {
   "cell_type": "code",
   "execution_count": 10,
   "id": "d46e468b",
   "metadata": {},
   "outputs": [
    {
     "data": {
      "text/plain": [
       "array([99, 99, 99, 99, 99, 99])"
      ]
     },
     "execution_count": 10,
     "metadata": {},
     "output_type": "execute_result"
    }
   ],
   "source": [
    "# Dilimi değiştirme\n",
    "slice_of_arr[:] = 99\n",
    "slice_of_arr"
   ]
  },
  {
   "cell_type": "code",
   "execution_count": 11,
   "id": "e41c3486",
   "metadata": {},
   "outputs": [
    {
     "data": {
      "text/plain": [
       "array([99, 99, 99, 99, 99, 99,  6,  7,  8,  9, 10])"
      ]
     },
     "execution_count": 11,
     "metadata": {},
     "output_type": "execute_result"
    }
   ],
   "source": [
    "arr #Değişiklikler orjinal dizide de değişiyor."
   ]
  },
  {
   "cell_type": "markdown",
   "id": "dc394a61",
   "metadata": {},
   "source": [
    "Veriler kopyalanmaz, orijinal dizinin bir görünümüdür! Bu, hafıza problemlerini önler!"
   ]
  },
  {
   "cell_type": "code",
   "execution_count": 12,
   "id": "b3716805",
   "metadata": {},
   "outputs": [
    {
     "data": {
      "text/plain": [
       "array([99, 99, 99, 99, 99, 99,  6,  7,  8,  9, 10])"
      ]
     },
     "execution_count": 12,
     "metadata": {},
     "output_type": "execute_result"
    }
   ],
   "source": [
    "# Bir kopya almak için açıkca ayarlamalısınız\n",
    "arr_copy = arr.copy()\n",
    "\n",
    "arr_copy"
   ]
  },
  {
   "cell_type": "markdown",
   "id": "22b40ab3",
   "metadata": {},
   "source": [
    "## 2D bir diziyi (matrisi) indeksleme\n",
    "\n",
    "Genel format: **arr_2d[row][col]** veya **arr_2d[row,col]**. Netlik için virgül gösterimini kullanmanızı öneririm."
   ]
  },
  {
   "cell_type": "code",
   "execution_count": 13,
   "id": "08a0929d",
   "metadata": {},
   "outputs": [
    {
     "data": {
      "text/plain": [
       "array([[ 5, 10, 15],\n",
       "       [20, 25, 30],\n",
       "       [35, 40, 45]])"
      ]
     },
     "execution_count": 13,
     "metadata": {},
     "output_type": "execute_result"
    }
   ],
   "source": [
    "arr_2d = np.array([[5,10,15],[20,25,30],[35,40,45]])\n",
    "arr_2d"
   ]
  },
  {
   "cell_type": "code",
   "execution_count": 17,
   "id": "9566c500",
   "metadata": {},
   "outputs": [
    {
     "data": {
      "text/plain": [
       "array([20, 25, 30])"
      ]
     },
     "execution_count": 17,
     "metadata": {},
     "output_type": "execute_result"
    }
   ],
   "source": [
    "# Satır dizisi oluşturma\n",
    "arr_2d[1]"
   ]
  },
  {
   "cell_type": "code",
   "execution_count": 18,
   "id": "de6dd23b",
   "metadata": {},
   "outputs": [
    {
     "data": {
      "text/plain": [
       "20"
      ]
     },
     "execution_count": 18,
     "metadata": {},
     "output_type": "execute_result"
    }
   ],
   "source": [
    "# Format: arr_2d[row][col] veya arr_2d[row,col]\n",
    "\n",
    "# Bir elemanın değerini alma: 1.yol\n",
    "arr_2d[1][0]"
   ]
  },
  {
   "cell_type": "code",
   "execution_count": 19,
   "id": "7392e296",
   "metadata": {},
   "outputs": [
    {
     "data": {
      "text/plain": [
       "20"
      ]
     },
     "execution_count": 19,
     "metadata": {},
     "output_type": "execute_result"
    }
   ],
   "source": [
    "# Bir elemanın değerini alma: 2.yol\n",
    "arr_2d[1,0]"
   ]
  },
  {
   "cell_type": "code",
   "execution_count": 20,
   "id": "3d63f95a",
   "metadata": {},
   "outputs": [
    {
     "data": {
      "text/plain": [
       "array([[20, 25],\n",
       "       [35, 40]])"
      ]
     },
     "execution_count": 20,
     "metadata": {},
     "output_type": "execute_result"
    }
   ],
   "source": [
    "# 2D diziyi dilimleme\n",
    "\n",
    "# Sağ üst köşeden (2,2) şekilli dizi dilimleme\n",
    "arr_2d[1:,:2]"
   ]
  },
  {
   "cell_type": "code",
   "execution_count": 21,
   "id": "f4db538a",
   "metadata": {},
   "outputs": [
    {
     "data": {
      "text/plain": [
       "array([35, 40, 45])"
      ]
     },
     "execution_count": 21,
     "metadata": {},
     "output_type": "execute_result"
    }
   ],
   "source": [
    "# Alt satır şekilli dizi dilimleme\n",
    "arr_2d[2]"
   ]
  },
  {
   "cell_type": "code",
   "execution_count": 22,
   "id": "fe7239d6",
   "metadata": {},
   "outputs": [
    {
     "data": {
      "text/plain": [
       "array([35, 40, 45])"
      ]
     },
     "execution_count": 22,
     "metadata": {},
     "output_type": "execute_result"
    }
   ],
   "source": [
    "# Alt satır şekilli dizi dilimleme\n",
    "arr_2d[2,:]"
   ]
  },
  {
   "cell_type": "markdown",
   "id": "876098dd",
   "metadata": {},
   "source": [
    "## Daha Fazla İndeksleme\n",
    "2B matrisi indekslemek, özellikle adım boyutunda eklemeye başladığınızda, ilk başta biraz kafa karıştırıcı olabilir. Bunun gibi faydalı görseller bulmak için google görsel aramada *NumPy indekslemeyi* deneyin:\n",
    "\n",
    "<img src= 'image/numpy_indexing.png' width=500/>"
   ]
  },
  {
   "cell_type": "markdown",
   "id": "79805121",
   "metadata": {},
   "source": [
    "## Koşullu Seçim\n",
    "\n",
    "Daha sonra doğrudan pandas'a çevrilecek çok temel bir kavramdır, bu kısmı anladığınızdan emin olun!\n",
    "\n",
    "Karşılaştırma operatörlerine dayalı seçim için parantezlerin nasıl kullanılacağını kısaca gözden geçirelim."
   ]
  },
  {
   "cell_type": "code",
   "execution_count": 23,
   "id": "2caeae06",
   "metadata": {},
   "outputs": [
    {
     "data": {
      "text/plain": [
       "array([ 1,  2,  3,  4,  5,  6,  7,  8,  9, 10])"
      ]
     },
     "execution_count": 23,
     "metadata": {},
     "output_type": "execute_result"
    }
   ],
   "source": [
    "arr = np.arange(1,11)\n",
    "arr"
   ]
  },
  {
   "cell_type": "code",
   "execution_count": 24,
   "id": "0012dc7a",
   "metadata": {},
   "outputs": [
    {
     "data": {
      "text/plain": [
       "array([False, False, False, False,  True,  True,  True,  True,  True,\n",
       "        True])"
      ]
     },
     "execution_count": 24,
     "metadata": {},
     "output_type": "execute_result"
    }
   ],
   "source": [
    "arr > 4"
   ]
  },
  {
   "cell_type": "code",
   "execution_count": 25,
   "id": "951e5f55",
   "metadata": {},
   "outputs": [
    {
     "data": {
      "text/plain": [
       "array([False, False, False, False,  True,  True,  True,  True,  True,\n",
       "        True])"
      ]
     },
     "execution_count": 25,
     "metadata": {},
     "output_type": "execute_result"
    }
   ],
   "source": [
    "bool_arr = arr>4\n",
    "bool_arr"
   ]
  },
  {
   "cell_type": "code",
   "execution_count": 26,
   "id": "cdcb97fb",
   "metadata": {},
   "outputs": [
    {
     "data": {
      "text/plain": [
       "array([ 5,  6,  7,  8,  9, 10])"
      ]
     },
     "execution_count": 26,
     "metadata": {},
     "output_type": "execute_result"
    }
   ],
   "source": [
    "arr[bool_arr]"
   ]
  },
  {
   "cell_type": "code",
   "execution_count": 27,
   "id": "da6f85f5",
   "metadata": {},
   "outputs": [
    {
     "data": {
      "text/plain": [
       "array([ 5,  6,  7,  8,  9, 10])"
      ]
     },
     "execution_count": 27,
     "metadata": {},
     "output_type": "execute_result"
    }
   ],
   "source": [
    "arr[arr>4]"
   ]
  },
  {
   "cell_type": "code",
   "execution_count": 28,
   "id": "b041de14",
   "metadata": {},
   "outputs": [
    {
     "data": {
      "text/plain": [
       "array([ 3,  4,  5,  6,  7,  8,  9, 10])"
      ]
     },
     "execution_count": 28,
     "metadata": {},
     "output_type": "execute_result"
    }
   ],
   "source": [
    "x = 2\n",
    "arr[arr>x]"
   ]
  },
  {
   "cell_type": "markdown",
   "id": "df86660d",
   "metadata": {},
   "source": [
    "# SON!"
   ]
  }
 ],
 "metadata": {
  "kernelspec": {
   "display_name": "Python 3 (ipykernel)",
   "language": "python",
   "name": "python3"
  },
  "language_info": {
   "codemirror_mode": {
    "name": "ipython",
    "version": 3
   },
   "file_extension": ".py",
   "mimetype": "text/x-python",
   "name": "python",
   "nbconvert_exporter": "python",
   "pygments_lexer": "ipython3",
   "version": "3.9.13"
  }
 },
 "nbformat": 4,
 "nbformat_minor": 5
}
