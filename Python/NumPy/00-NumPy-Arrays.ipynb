{
 "cells": [
  {
   "cell_type": "markdown",
   "id": "ad001862",
   "metadata": {},
   "source": [
    "# NumPy Öğrenirken Bir Takım Saçmalamalarım"
   ]
  },
  {
   "cell_type": "markdown",
   "id": "a84b3509",
   "metadata": {},
   "source": [
    "# NumPy Dizileri\n",
    "\n",
    "NumPy dizileri temelde iki şekilde gelir: **vektörler** ve **matrisler**. Vektörler, 1-boyutlu ve matrisler, 2-boyutlu dizilerdir.\n",
    "\n",
    "## Neden sadece liste değilde, Numpy dizisini kullanmalıyım?\n",
    "*Standart* python liste nesnesi yerine Numpy dizisi kullanmanın başlıca nedenleri şunlardır:\n",
    "* Numpy dizisinin listeye karşın Bellek Verimliliği\n",
    "* N-boyutlu nesnelere kolayca genişletilebilmesi\n",
    "* Numpy dizisinin hesaplama hızı (yaklaşık 50 kat daha hızlı)\n",
    "* Numpy ile yayın işlemleri (broadcasting) ve fonksiyonları\n",
    "* Kullandığımız tüm veri bilimi ve makine öğrenmesi kütüphanelerinin Numpy ile oluşturulmuş olması."
   ]
  },
  {
   "cell_type": "markdown",
   "id": "885e4544",
   "metadata": {},
   "source": [
    "### NumPy dizisinin ve Python listesinin Tipi:"
   ]
  },
  {
   "cell_type": "code",
   "execution_count": 3,
   "id": "b51f33cf",
   "metadata": {},
   "outputs": [],
   "source": [
    "import numpy as np"
   ]
  },
  {
   "cell_type": "code",
   "execution_count": 4,
   "id": "5f66497d",
   "metadata": {},
   "outputs": [],
   "source": [
    "my_list = [1,2,3]\n",
    "my_array = np.array(my_list)"
   ]
  },
  {
   "cell_type": "code",
   "execution_count": 5,
   "id": "c90fb26e",
   "metadata": {},
   "outputs": [
    {
     "data": {
      "text/plain": [
       "list"
      ]
     },
     "execution_count": 5,
     "metadata": {},
     "output_type": "execute_result"
    }
   ],
   "source": [
    "type(my_list)"
   ]
  },
  {
   "cell_type": "code",
   "execution_count": 6,
   "id": "704bf0a7",
   "metadata": {},
   "outputs": [
    {
     "data": {
      "text/plain": [
       "numpy.ndarray"
      ]
     },
     "execution_count": 6,
     "metadata": {},
     "output_type": "execute_result"
    }
   ],
   "source": [
    "type(my_array)"
   ]
  },
  {
   "cell_type": "markdown",
   "id": "930b223f",
   "metadata": {},
   "source": [
    "## Nesnelerden NumPy Dizileri Oluşturma\n",
    "\n",
    "- **Python Listesinden** doğrudan dönüştürerek Numpy dizisi oluşturma:"
   ]
  },
  {
   "cell_type": "code",
   "execution_count": 7,
   "id": "bdc427b3",
   "metadata": {},
   "outputs": [
    {
     "data": {
      "text/plain": [
       "[1, 2, 3]"
      ]
     },
     "execution_count": 7,
     "metadata": {},
     "output_type": "execute_result"
    }
   ],
   "source": [
    "my_list = [1,2,3]\n",
    "my_list"
   ]
  },
  {
   "cell_type": "code",
   "execution_count": 8,
   "id": "7370f16c",
   "metadata": {},
   "outputs": [
    {
     "data": {
      "text/plain": [
       "array([1, 2, 3])"
      ]
     },
     "execution_count": 8,
     "metadata": {},
     "output_type": "execute_result"
    }
   ],
   "source": [
    "np.array(my_list)"
   ]
  },
  {
   "cell_type": "code",
   "execution_count": 9,
   "id": "231ba84d",
   "metadata": {},
   "outputs": [
    {
     "data": {
      "text/plain": [
       "numpy.ndarray"
      ]
     },
     "execution_count": 9,
     "metadata": {},
     "output_type": "execute_result"
    }
   ],
   "source": [
    "type(np.array(my_list))"
   ]
  },
  {
   "cell_type": "code",
   "execution_count": 10,
   "id": "d38f928e",
   "metadata": {},
   "outputs": [
    {
     "data": {
      "text/plain": [
       "list"
      ]
     },
     "execution_count": 10,
     "metadata": {},
     "output_type": "execute_result"
    }
   ],
   "source": [
    "my_matrix = [[1,2,3],[4,5,6],[7,8,9]]\n",
    "type(my_matrix)"
   ]
  },
  {
   "cell_type": "code",
   "execution_count": 11,
   "id": "9c1ec0d0",
   "metadata": {},
   "outputs": [
    {
     "data": {
      "text/plain": [
       "array([[1, 2, 3],\n",
       "       [4, 5, 6],\n",
       "       [7, 8, 9]])"
      ]
     },
     "execution_count": 11,
     "metadata": {},
     "output_type": "execute_result"
    }
   ],
   "source": [
    "np.array(my_matrix)"
   ]
  },
  {
   "cell_type": "code",
   "execution_count": 12,
   "id": "38fe5976",
   "metadata": {},
   "outputs": [
    {
     "data": {
      "text/plain": [
       "numpy.ndarray"
      ]
     },
     "execution_count": 12,
     "metadata": {},
     "output_type": "execute_result"
    }
   ],
   "source": [
    "type(np.array(my_matrix))"
   ]
  },
  {
   "cell_type": "markdown",
   "id": "e5676840",
   "metadata": {},
   "source": [
    "## Numpy dizisi oluşturmak için yerleşik yöntemler\n",
    "\n",
    "Numpy'da dizi oluşturmanın birçok yerleşik yolu vardır."
   ]
  },
  {
   "cell_type": "markdown",
   "id": "cc9f1e98",
   "metadata": {},
   "source": [
    "- **arange :** Belirli bir aralıkta eşit aralıklı tamsayı değerleri içeren numpy dizisi döndüren Numpy fonksiyonu"
   ]
  },
  {
   "cell_type": "code",
   "execution_count": 13,
   "id": "07e299c7",
   "metadata": {},
   "outputs": [
    {
     "data": {
      "text/plain": [
       "array([0, 1, 2, 3, 4, 5, 6, 7, 8, 9])"
      ]
     },
     "execution_count": 13,
     "metadata": {},
     "output_type": "execute_result"
    }
   ],
   "source": [
    "# 0'dan 10(hariç)'a kadar bir numpy tam sayı dizisi oluşturma\n",
    "np.arange(0,10) "
   ]
  },
  {
   "cell_type": "code",
   "execution_count": 15,
   "id": "132c54f4",
   "metadata": {},
   "outputs": [
    {
     "data": {
      "text/plain": [
       "array([ 0,  2,  4,  6,  8, 10])"
      ]
     },
     "execution_count": 15,
     "metadata": {},
     "output_type": "execute_result"
    }
   ],
   "source": [
    " #step size girerek artımlı bir numpy tam sayı dizisi oluşturma. 0'dan 11(hariç)'e ikişer atlayarak\n",
    "np.arange(0,11,2)"
   ]
  },
  {
   "cell_type": "markdown",
   "id": "5ef5076c",
   "metadata": {},
   "source": [
    " **zeros ve ones :** $0$ veya $1$ floating dizileri oluşturma"
   ]
  },
  {
   "cell_type": "code",
   "execution_count": 16,
   "id": "d2d1c796",
   "metadata": {},
   "outputs": [
    {
     "data": {
      "text/plain": [
       "array([0., 0., 0.])"
      ]
     },
     "execution_count": 16,
     "metadata": {},
     "output_type": "execute_result"
    }
   ],
   "source": [
    "np.zeros(3)"
   ]
  },
  {
   "cell_type": "code",
   "execution_count": 18,
   "id": "47b263fb",
   "metadata": {},
   "outputs": [
    {
     "data": {
      "text/plain": [
       "array([[0., 0., 0., 0., 0.],\n",
       "       [0., 0., 0., 0., 0.],\n",
       "       [0., 0., 0., 0., 0.],\n",
       "       [0., 0., 0., 0., 0.],\n",
       "       [0., 0., 0., 0., 0.]])"
      ]
     },
     "execution_count": 18,
     "metadata": {},
     "output_type": "execute_result"
    }
   ],
   "source": [
    "np.zeros((5,5))"
   ]
  },
  {
   "cell_type": "code",
   "execution_count": 19,
   "id": "60b811f4",
   "metadata": {},
   "outputs": [
    {
     "data": {
      "text/plain": [
       "array([1., 1., 1.])"
      ]
     },
     "execution_count": 19,
     "metadata": {},
     "output_type": "execute_result"
    }
   ],
   "source": [
    "np.ones(3)"
   ]
  },
  {
   "cell_type": "code",
   "execution_count": 20,
   "id": "deeea9f3",
   "metadata": {},
   "outputs": [
    {
     "data": {
      "text/plain": [
       "array([[1., 1., 1.],\n",
       "       [1., 1., 1.],\n",
       "       [1., 1., 1.]])"
      ]
     },
     "execution_count": 20,
     "metadata": {},
     "output_type": "execute_result"
    }
   ],
   "source": [
    "np.ones((3,3))"
   ]
  },
  {
   "cell_type": "markdown",
   "id": "29bde4f6",
   "metadata": {},
   "source": [
    "- **linspace :** Belirtilen aralıkta eşit aralıklı sayılar döndüren Numpy fonksiyonu"
   ]
  },
  {
   "cell_type": "code",
   "execution_count": 21,
   "id": "40efc123",
   "metadata": {},
   "outputs": [
    {
     "data": {
      "text/plain": [
       "array([ 0.,  5., 10.])"
      ]
     },
     "execution_count": 21,
     "metadata": {},
     "output_type": "execute_result"
    }
   ],
   "source": [
    "# 0 ile 10 (dahil) arasında 3 elemanlı eşit aralıklı numpy dizisi döndürme\n",
    "np.linspace(0,10,3) "
   ]
  },
  {
   "cell_type": "code",
   "execution_count": 22,
   "id": "9b45dbb9",
   "metadata": {},
   "outputs": [
    {
     "data": {
      "text/plain": [
       "array([0.        , 0.26315789, 0.52631579, 0.78947368, 1.05263158,\n",
       "       1.31578947, 1.57894737, 1.84210526, 2.10526316, 2.36842105,\n",
       "       2.63157895, 2.89473684, 3.15789474, 3.42105263, 3.68421053,\n",
       "       3.94736842, 4.21052632, 4.47368421, 4.73684211, 5.        ])"
      ]
     },
     "execution_count": 22,
     "metadata": {},
     "output_type": "execute_result"
    }
   ],
   "source": [
    "np.linspace(0,5,20)"
   ]
  },
  {
   "cell_type": "code",
   "execution_count": 23,
   "id": "4cf04a23",
   "metadata": {},
   "outputs": [
    {
     "data": {
      "text/plain": [
       "array([0.  , 0.25, 0.5 , 0.75, 1.  , 1.25, 1.5 , 1.75, 2.  , 2.25, 2.5 ,\n",
       "       2.75, 3.  , 3.25, 3.5 , 3.75, 4.  , 4.25, 4.5 , 4.75, 5.  ])"
      ]
     },
     "execution_count": 23,
     "metadata": {},
     "output_type": "execute_result"
    }
   ],
   "source": [
    "np.linspace(0,5,21)"
   ]
  },
  {
   "cell_type": "markdown",
   "id": "8981978c",
   "metadata": {},
   "source": [
    "- **eye :** Birim matris oluşturan Numpy fonksiyonu "
   ]
  },
  {
   "cell_type": "code",
   "execution_count": 24,
   "id": "083338dc",
   "metadata": {},
   "outputs": [
    {
     "data": {
      "text/plain": [
       "array([[1., 0., 0., 0.],\n",
       "       [0., 1., 0., 0.],\n",
       "       [0., 0., 1., 0.],\n",
       "       [0., 0., 0., 1.]])"
      ]
     },
     "execution_count": 24,
     "metadata": {},
     "output_type": "execute_result"
    }
   ],
   "source": [
    "np.eye(4)"
   ]
  },
  {
   "cell_type": "markdown",
   "id": "bdf09881",
   "metadata": {},
   "source": [
    "- **Random :** Numpy'ın rasgele sayı dizisi oluşturan fonksiyonu:\n",
    "\n",
    "> **rand :** Verilen şekle sahip bir dizi oluşturan ve onu ``[0, 1)`` yarı açık aralığında üniform dağılımlı rastgele örneklerle dolduran Numpy fonksiyonu "
   ]
  },
  {
   "cell_type": "code",
   "execution_count": 25,
   "id": "64129eb9",
   "metadata": {},
   "outputs": [
    {
     "data": {
      "text/plain": [
       "array([0.54824294, 0.17793167, 0.93003968, 0.04759549, 0.97579767])"
      ]
     },
     "execution_count": 25,
     "metadata": {},
     "output_type": "execute_result"
    }
   ],
   "source": [
    "np.random.rand(5)"
   ]
  },
  {
   "cell_type": "code",
   "execution_count": 26,
   "id": "3466a9a3",
   "metadata": {},
   "outputs": [
    {
     "data": {
      "text/plain": [
       "array([[0.8065897 , 0.20853672, 0.47673092, 0.11291748, 0.63371445],\n",
       "       [0.59736372, 0.90498297, 0.0789809 , 0.36307975, 0.06896916],\n",
       "       [0.10940091, 0.1490048 , 0.71447277, 0.76334345, 0.98536555],\n",
       "       [0.39195451, 0.06930434, 0.05990441, 0.08373389, 0.56819481],\n",
       "       [0.37844236, 0.17467638, 0.60067502, 0.5722431 , 0.49075158]])"
      ]
     },
     "execution_count": 26,
     "metadata": {},
     "output_type": "execute_result"
    }
   ],
   "source": [
    "np.random.rand(5,5)"
   ]
  },
  {
   "cell_type": "markdown",
   "id": "d224d3d3",
   "metadata": {},
   "source": [
    "> **randn :** 'Standart normal' ortalaması 0, varyansı 1 olan dağılımlı örnekler döndüren Numpy fonksiyonu. Üniform olan **rand**'ın aksine, sıfıra yakın değerlerin görünme olasılığı daha yüksektir"
   ]
  },
  {
   "cell_type": "code",
   "execution_count": 27,
   "id": "9ab9eb0b",
   "metadata": {},
   "outputs": [
    {
     "data": {
      "text/plain": [
       "array([-1.01083627,  0.58291032])"
      ]
     },
     "execution_count": 27,
     "metadata": {},
     "output_type": "execute_result"
    }
   ],
   "source": [
    "np.random.randn(2)"
   ]
  },
  {
   "cell_type": "code",
   "execution_count": 28,
   "id": "d7860e0b",
   "metadata": {},
   "outputs": [
    {
     "data": {
      "text/plain": [
       "array([[-1.14366998, -0.56346637,  0.22846954,  0.04928024,  1.0746789 ],\n",
       "       [-2.57702212, -0.04322162,  1.11173578,  1.44536308,  1.5714513 ],\n",
       "       [-1.73981013,  0.79409357, -0.08181791, -0.88731547, -0.07898011],\n",
       "       [-1.44149233, -0.44101683,  0.45055748,  0.44074257,  0.39602084],\n",
       "       [-2.02069739,  1.43484552, -1.87233266,  0.94252376, -0.18706704]])"
      ]
     },
     "execution_count": 28,
     "metadata": {},
     "output_type": "execute_result"
    }
   ],
   "source": [
    "np.random.randn(5,5)"
   ]
  },
  {
   "cell_type": "markdown",
   "id": "020a4f75",
   "metadata": {},
   "source": [
    "> **randint :** 'low' (dahil) ile 'high' (hariç) arasında rastgele tamsayılar döndüren Numpy fonksiyonu"
   ]
  },
  {
   "cell_type": "code",
   "execution_count": 29,
   "id": "fbb9798a",
   "metadata": {},
   "outputs": [
    {
     "data": {
      "text/plain": [
       "37"
      ]
     },
     "execution_count": 29,
     "metadata": {},
     "output_type": "execute_result"
    }
   ],
   "source": [
    "np.random.randint(1,100)"
   ]
  },
  {
   "cell_type": "code",
   "execution_count": 32,
   "id": "1d6df397",
   "metadata": {},
   "outputs": [
    {
     "data": {
      "text/plain": [
       "array([5, 1, 1, 9, 1, 3, 4, 5, 5, 5])"
      ]
     },
     "execution_count": 32,
     "metadata": {},
     "output_type": "execute_result"
    }
   ],
   "source": [
    "np.random.randint(1,10,10)"
   ]
  },
  {
   "cell_type": "markdown",
   "id": "ff730e02",
   "metadata": {},
   "source": [
    "> *seed :* Aynı 'random' sonuçların yeniden üretilebilmesinde rastgele durumu ayarlamak için kullanılır"
   ]
  },
  {
   "cell_type": "code",
   "execution_count": 41,
   "id": "83e37e5b",
   "metadata": {},
   "outputs": [
    {
     "data": {
      "text/plain": [
       "array([10,  7, 16])"
      ]
     },
     "execution_count": 41,
     "metadata": {},
     "output_type": "execute_result"
    }
   ],
   "source": [
    "np.random.seed(42)\n",
    "np.random.randint(4,20,3)"
   ]
  },
  {
   "cell_type": "code",
   "execution_count": 42,
   "id": "d4494ff1",
   "metadata": {},
   "outputs": [
    {
     "data": {
      "text/plain": [
       "array([10,  7, 16])"
      ]
     },
     "execution_count": 42,
     "metadata": {},
     "output_type": "execute_result"
    }
   ],
   "source": [
    "np.random.seed(42)\n",
    "np.random.randint(4,20,3)"
   ]
  },
  {
   "cell_type": "markdown",
   "id": "9d0bb059",
   "metadata": {},
   "source": [
    "## Numpy Dizisinin Öznitelikleri ve Yöntemleri"
   ]
  },
  {
   "cell_type": "code",
   "execution_count": 94,
   "id": "48d3b185",
   "metadata": {},
   "outputs": [],
   "source": [
    "arr = np.arange(25)\n",
    "ranarr = np.random.randint(0,50,10)"
   ]
  },
  {
   "cell_type": "code",
   "execution_count": 95,
   "id": "25d4f669",
   "metadata": {},
   "outputs": [
    {
     "data": {
      "text/plain": [
       "array([ 0,  1,  2,  3,  4,  5,  6,  7,  8,  9, 10, 11, 12, 13, 14, 15, 16,\n",
       "       17, 18, 19, 20, 21, 22, 23, 24])"
      ]
     },
     "execution_count": 95,
     "metadata": {},
     "output_type": "execute_result"
    }
   ],
   "source": [
    "arr"
   ]
  },
  {
   "cell_type": "code",
   "execution_count": 96,
   "id": "de78acbd",
   "metadata": {},
   "outputs": [
    {
     "data": {
      "text/plain": [
       "array([15, 44, 17, 46, 23, 25, 24, 44, 40, 28])"
      ]
     },
     "execution_count": 96,
     "metadata": {},
     "output_type": "execute_result"
    }
   ],
   "source": [
    "ranarr"
   ]
  },
  {
   "cell_type": "markdown",
   "id": "b30db268",
   "metadata": {},
   "source": [
    "> **reshape-**\n",
    "Aynı verileri içeren yeni şekilli bir dizi döndüren Numpy fonksiyonu"
   ]
  },
  {
   "cell_type": "code",
   "execution_count": 97,
   "id": "dbf34ca9",
   "metadata": {},
   "outputs": [
    {
     "data": {
      "text/plain": [
       "array([[ 0,  1,  2,  3,  4],\n",
       "       [ 5,  6,  7,  8,  9],\n",
       "       [10, 11, 12, 13, 14],\n",
       "       [15, 16, 17, 18, 19],\n",
       "       [20, 21, 22, 23, 24]])"
      ]
     },
     "execution_count": 97,
     "metadata": {},
     "output_type": "execute_result"
    }
   ],
   "source": [
    "arr.reshape(5,5)"
   ]
  },
  {
   "cell_type": "markdown",
   "id": "95925202",
   "metadata": {},
   "source": [
    "> **max, min, argmax, argmin-**\n",
    "Maksimum veya minimum değerleri veya **argmin** veya **argmax** kullanarak indeks konumlarını bulmak için yararlı yöntemlerdir."
   ]
  },
  {
   "cell_type": "code",
   "execution_count": 98,
   "id": "12a1502c",
   "metadata": {},
   "outputs": [
    {
     "data": {
      "text/plain": [
       "array([15, 44, 17, 46, 23, 25, 24, 44, 40, 28])"
      ]
     },
     "execution_count": 98,
     "metadata": {},
     "output_type": "execute_result"
    }
   ],
   "source": [
    "ranarr"
   ]
  },
  {
   "cell_type": "code",
   "execution_count": 99,
   "id": "29b81fcd",
   "metadata": {},
   "outputs": [
    {
     "data": {
      "text/plain": [
       "46"
      ]
     },
     "execution_count": 99,
     "metadata": {},
     "output_type": "execute_result"
    }
   ],
   "source": [
    "ranarr.max()"
   ]
  },
  {
   "cell_type": "code",
   "execution_count": 100,
   "id": "30a1189f",
   "metadata": {},
   "outputs": [
    {
     "data": {
      "text/plain": [
       "3"
      ]
     },
     "execution_count": 100,
     "metadata": {},
     "output_type": "execute_result"
    }
   ],
   "source": [
    "ranarr.argmax() # maksimum değerin index değerini döndüren fonksiyon"
   ]
  },
  {
   "cell_type": "code",
   "execution_count": 101,
   "id": "491d57a4",
   "metadata": {},
   "outputs": [
    {
     "data": {
      "text/plain": [
       "15"
      ]
     },
     "execution_count": 101,
     "metadata": {},
     "output_type": "execute_result"
    }
   ],
   "source": [
    "ranarr.min()"
   ]
  },
  {
   "cell_type": "code",
   "execution_count": 102,
   "id": "7cceaed6",
   "metadata": {},
   "outputs": [
    {
     "data": {
      "text/plain": [
       "0"
      ]
     },
     "execution_count": 102,
     "metadata": {},
     "output_type": "execute_result"
    }
   ],
   "source": [
    "ranarr.argmin() # minimum değerin index değerini döndüren fonksiyon"
   ]
  },
  {
   "cell_type": "markdown",
   "id": "59f1032b",
   "metadata": {},
   "source": [
    "> **shape-**\n",
    "Dizilerin sahip olduğu bir niteliktir (yöntem değil)"
   ]
  },
  {
   "cell_type": "code",
   "execution_count": 103,
   "id": "28503ab7",
   "metadata": {},
   "outputs": [
    {
     "data": {
      "text/plain": [
       "(25,)"
      ]
     },
     "execution_count": 103,
     "metadata": {},
     "output_type": "execute_result"
    }
   ],
   "source": [
    "# 25 sayıdan oluşan bir boyutlu vektör olduğunu görürüz. \n",
    "arr.shape"
   ]
  },
  {
   "cell_type": "code",
   "execution_count": 104,
   "id": "3a612650",
   "metadata": {},
   "outputs": [
    {
     "data": {
      "text/plain": [
       "array([ 0,  1,  2,  3,  4,  5,  6,  7,  8,  9, 10, 11, 12, 13, 14, 15, 16,\n",
       "       17, 18, 19, 20, 21, 22, 23, 24])"
      ]
     },
     "execution_count": 104,
     "metadata": {},
     "output_type": "execute_result"
    }
   ],
   "source": [
    "arr"
   ]
  },
  {
   "cell_type": "code",
   "execution_count": 105,
   "id": "58d85bf5",
   "metadata": {},
   "outputs": [
    {
     "data": {
      "text/plain": [
       "array([[ 0,  1,  2,  3,  4,  5,  6,  7,  8,  9, 10, 11, 12, 13, 14, 15,\n",
       "        16, 17, 18, 19, 20, 21, 22, 23, 24]])"
      ]
     },
     "execution_count": 105,
     "metadata": {},
     "output_type": "execute_result"
    }
   ],
   "source": [
    "arr.reshape(1,25)\n",
    "# İki parantez grubu var dikkat"
   ]
  },
  {
   "cell_type": "code",
   "execution_count": 106,
   "id": "33bc480a",
   "metadata": {},
   "outputs": [
    {
     "data": {
      "text/plain": [
       "(1, 25)"
      ]
     },
     "execution_count": 106,
     "metadata": {},
     "output_type": "execute_result"
    }
   ],
   "source": [
    "arr.reshape(1,25).shape"
   ]
  },
  {
   "cell_type": "code",
   "execution_count": 107,
   "id": "dce75c6a",
   "metadata": {},
   "outputs": [
    {
     "data": {
      "text/plain": [
       "array([[ 0],\n",
       "       [ 1],\n",
       "       [ 2],\n",
       "       [ 3],\n",
       "       [ 4],\n",
       "       [ 5],\n",
       "       [ 6],\n",
       "       [ 7],\n",
       "       [ 8],\n",
       "       [ 9],\n",
       "       [10],\n",
       "       [11],\n",
       "       [12],\n",
       "       [13],\n",
       "       [14],\n",
       "       [15],\n",
       "       [16],\n",
       "       [17],\n",
       "       [18],\n",
       "       [19],\n",
       "       [20],\n",
       "       [21],\n",
       "       [22],\n",
       "       [23],\n",
       "       [24]])"
      ]
     },
     "execution_count": 107,
     "metadata": {},
     "output_type": "execute_result"
    }
   ],
   "source": [
    "arr.reshape(25,1)"
   ]
  },
  {
   "cell_type": "code",
   "execution_count": 108,
   "id": "26589d3f",
   "metadata": {},
   "outputs": [
    {
     "data": {
      "text/plain": [
       "(25, 1)"
      ]
     },
     "execution_count": 108,
     "metadata": {},
     "output_type": "execute_result"
    }
   ],
   "source": [
    "arr.reshape(25,1).shape"
   ]
  },
  {
   "cell_type": "markdown",
   "id": "6080426f",
   "metadata": {},
   "source": [
    "> **dtype-**\n",
    "Dizinin veri türünü veren fonksiyon"
   ]
  },
  {
   "cell_type": "code",
   "execution_count": 109,
   "id": "0ed42fde",
   "metadata": {},
   "outputs": [
    {
     "data": {
      "text/plain": [
       "dtype('int64')"
      ]
     },
     "execution_count": 109,
     "metadata": {},
     "output_type": "execute_result"
    }
   ],
   "source": [
    "arr.dtype"
   ]
  },
  {
   "cell_type": "code",
   "execution_count": 110,
   "id": "2dc82e72",
   "metadata": {},
   "outputs": [
    {
     "data": {
      "text/plain": [
       "dtype('float64')"
      ]
     },
     "execution_count": 110,
     "metadata": {},
     "output_type": "execute_result"
    }
   ],
   "source": [
    "arr2 = np.array([1.2, 3.4, 5.6])\n",
    "arr2.dtype"
   ]
  },
  {
   "cell_type": "markdown",
   "id": "ee0acd73",
   "metadata": {},
   "source": [
    "# SON!"
   ]
  }
 ],
 "metadata": {
  "kernelspec": {
   "display_name": "Python 3 (ipykernel)",
   "language": "python",
   "name": "python3"
  },
  "language_info": {
   "codemirror_mode": {
    "name": "ipython",
    "version": 3
   },
   "file_extension": ".py",
   "mimetype": "text/x-python",
   "name": "python",
   "nbconvert_exporter": "python",
   "pygments_lexer": "ipython3",
   "version": "3.9.13"
  }
 },
 "nbformat": 4,
 "nbformat_minor": 5
}
